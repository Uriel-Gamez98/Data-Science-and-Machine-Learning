{
  "cells": [
    {
      "cell_type": "code",
      "execution_count": 32,
      "metadata": {
        "id": "nIQ-qV1daMvT"
      },
      "outputs": [],
      "source": [
        "import numpy as np\n",
        "import pandas as pd\n",
        "import sklearn\n",
        "from sklearn.metrics.pairwise import cosine_similarity"
      ]
    },
    {
      "cell_type": "markdown",
      "metadata": {},
      "source": [
        "Step 1: Loading the data"
      ]
    },
    {
      "cell_type": "code",
      "execution_count": 33,
      "metadata": {
        "colab": {
          "base_uri": "https://localhost:8080/",
          "height": 552
        },
        "id": "CHpR7gNtagK3",
        "outputId": "ce182e04-bf17-41a5-b1e5-4d953812df8f"
      },
      "outputs": [
        {
          "data": {
            "text/html": [
              "<div>\n",
              "<style scoped>\n",
              "    .dataframe tbody tr th:only-of-type {\n",
              "        vertical-align: middle;\n",
              "    }\n",
              "\n",
              "    .dataframe tbody tr th {\n",
              "        vertical-align: top;\n",
              "    }\n",
              "\n",
              "    .dataframe thead th {\n",
              "        text-align: right;\n",
              "    }\n",
              "</style>\n",
              "<table border=\"1\" class=\"dataframe\">\n",
              "  <thead>\n",
              "    <tr style=\"text-align: right;\">\n",
              "      <th></th>\n",
              "      <th>Title</th>\n",
              "      <th>Author</th>\n",
              "      <th>ISBN Valid</th>\n",
              "      <th>Publisher</th>\n",
              "      <th>Subjects</th>\n",
              "      <th>i</th>\n",
              "    </tr>\n",
              "  </thead>\n",
              "  <tbody>\n",
              "    <tr>\n",
              "      <th>0</th>\n",
              "      <td>Classification décimale universelle : édition ...</td>\n",
              "      <td>NaN</td>\n",
              "      <td>9782871303336; 2871303339</td>\n",
              "      <td>Ed du CEFAL</td>\n",
              "      <td>Classification décimale universelle; Indexatio...</td>\n",
              "      <td>0</td>\n",
              "    </tr>\n",
              "    <tr>\n",
              "      <th>1</th>\n",
              "      <td>Les interactions dans l'enseignement des langu...</td>\n",
              "      <td>Cicurel, Francine, 1947-</td>\n",
              "      <td>9782278058327; 2278058320</td>\n",
              "      <td>Didier</td>\n",
              "      <td>didactique--langue étrangère - enseignement; d...</td>\n",
              "      <td>1</td>\n",
              "    </tr>\n",
              "    <tr>\n",
              "      <th>2</th>\n",
              "      <td>Histoire de vie et recherche biographique : pe...</td>\n",
              "      <td>NaN</td>\n",
              "      <td>2343190194; 9782343190198</td>\n",
              "      <td>L'Harmattan</td>\n",
              "      <td>Histoires de vie en sociologie; Sciences socia...</td>\n",
              "      <td>2</td>\n",
              "    </tr>\n",
              "    <tr>\n",
              "      <th>3</th>\n",
              "      <td>Ce livre devrait me permettre de résoudre le c...</td>\n",
              "      <td>Mazas, Sylvain, 1980-</td>\n",
              "      <td>9782365350020; 236535002X; 9782365350488; 2365...</td>\n",
              "      <td>Vraoum!</td>\n",
              "      <td>Moyen-Orient; Bandes dessinées autobiographiqu...</td>\n",
              "      <td>3</td>\n",
              "    </tr>\n",
              "    <tr>\n",
              "      <th>4</th>\n",
              "      <td>Les années glorieuses : roman /</td>\n",
              "      <td>Lemaitre, Pierre, 1951-</td>\n",
              "      <td>9782702180815; 2702180817; 9782702183618; 2702...</td>\n",
              "      <td>Calmann-Lévy</td>\n",
              "      <td>France--1945-1975; Roman historique; Roman fra...</td>\n",
              "      <td>4</td>\n",
              "    </tr>\n",
              "  </tbody>\n",
              "</table>\n",
              "</div>"
            ],
            "text/plain": [
              "                                               Title  \\\n",
              "0  Classification décimale universelle : édition ...   \n",
              "1  Les interactions dans l'enseignement des langu...   \n",
              "2  Histoire de vie et recherche biographique : pe...   \n",
              "3  Ce livre devrait me permettre de résoudre le c...   \n",
              "4                    Les années glorieuses : roman /   \n",
              "\n",
              "                     Author  \\\n",
              "0                       NaN   \n",
              "1  Cicurel, Francine, 1947-   \n",
              "2                       NaN   \n",
              "3     Mazas, Sylvain, 1980-   \n",
              "4   Lemaitre, Pierre, 1951-   \n",
              "\n",
              "                                          ISBN Valid     Publisher  \\\n",
              "0                          9782871303336; 2871303339   Ed du CEFAL   \n",
              "1                          9782278058327; 2278058320        Didier   \n",
              "2                          2343190194; 9782343190198   L'Harmattan   \n",
              "3  9782365350020; 236535002X; 9782365350488; 2365...       Vraoum!   \n",
              "4  9782702180815; 2702180817; 9782702183618; 2702...  Calmann-Lévy   \n",
              "\n",
              "                                            Subjects  i  \n",
              "0  Classification décimale universelle; Indexatio...  0  \n",
              "1  didactique--langue étrangère - enseignement; d...  1  \n",
              "2  Histoires de vie en sociologie; Sciences socia...  2  \n",
              "3  Moyen-Orient; Bandes dessinées autobiographiqu...  3  \n",
              "4  France--1945-1975; Roman historique; Roman fra...  4  "
            ]
          },
          "metadata": {},
          "output_type": "display_data"
        },
        {
          "data": {
            "text/html": [
              "<div>\n",
              "<style scoped>\n",
              "    .dataframe tbody tr th:only-of-type {\n",
              "        vertical-align: middle;\n",
              "    }\n",
              "\n",
              "    .dataframe tbody tr th {\n",
              "        vertical-align: top;\n",
              "    }\n",
              "\n",
              "    .dataframe thead th {\n",
              "        text-align: right;\n",
              "    }\n",
              "</style>\n",
              "<table border=\"1\" class=\"dataframe\">\n",
              "  <thead>\n",
              "    <tr style=\"text-align: right;\">\n",
              "      <th></th>\n",
              "      <th>u</th>\n",
              "      <th>i</th>\n",
              "      <th>t</th>\n",
              "    </tr>\n",
              "  </thead>\n",
              "  <tbody>\n",
              "    <tr>\n",
              "      <th>0</th>\n",
              "      <td>4456</td>\n",
              "      <td>8581</td>\n",
              "      <td>1.687541e+09</td>\n",
              "    </tr>\n",
              "    <tr>\n",
              "      <th>1</th>\n",
              "      <td>142</td>\n",
              "      <td>1964</td>\n",
              "      <td>1.679585e+09</td>\n",
              "    </tr>\n",
              "    <tr>\n",
              "      <th>2</th>\n",
              "      <td>362</td>\n",
              "      <td>3705</td>\n",
              "      <td>1.706872e+09</td>\n",
              "    </tr>\n",
              "    <tr>\n",
              "      <th>3</th>\n",
              "      <td>1809</td>\n",
              "      <td>11317</td>\n",
              "      <td>1.673533e+09</td>\n",
              "    </tr>\n",
              "    <tr>\n",
              "      <th>4</th>\n",
              "      <td>4384</td>\n",
              "      <td>1323</td>\n",
              "      <td>1.681402e+09</td>\n",
              "    </tr>\n",
              "  </tbody>\n",
              "</table>\n",
              "</div>"
            ],
            "text/plain": [
              "      u      i             t\n",
              "0  4456   8581  1.687541e+09\n",
              "1   142   1964  1.679585e+09\n",
              "2   362   3705  1.706872e+09\n",
              "3  1809  11317  1.673533e+09\n",
              "4  4384   1323  1.681402e+09"
            ]
          },
          "metadata": {},
          "output_type": "display_data"
        }
      ],
      "source": [
        "# Load the datasets\n",
        "books = pd.read_csv(\"https://raw.githubusercontent.com/Uriel-Gamez98/Data-Science-and-Machine-Learning/refs/heads/main/items.csv\")\n",
        "interactions = pd.read_csv(\"https://raw.githubusercontent.com/Uriel-Gamez98/Data-Science-and-Machine-Learning/refs/heads/main/interactions_train.csv\")\n",
        "# Display the first rows of each dataset\n",
        "display(books.head())\n",
        "display(interactions.head())\n"
      ]
    },
    {
      "cell_type": "code",
      "execution_count": 34,
      "metadata": {},
      "outputs": [
        {
          "data": {
            "text/html": [
              "<div>\n",
              "<style scoped>\n",
              "    .dataframe tbody tr th:only-of-type {\n",
              "        vertical-align: middle;\n",
              "    }\n",
              "\n",
              "    .dataframe tbody tr th {\n",
              "        vertical-align: top;\n",
              "    }\n",
              "\n",
              "    .dataframe thead th {\n",
              "        text-align: right;\n",
              "    }\n",
              "</style>\n",
              "<table border=\"1\" class=\"dataframe\">\n",
              "  <thead>\n",
              "    <tr style=\"text-align: right;\">\n",
              "      <th></th>\n",
              "      <th>user_id</th>\n",
              "      <th>book_id</th>\n",
              "      <th>timestamp</th>\n",
              "    </tr>\n",
              "  </thead>\n",
              "  <tbody>\n",
              "    <tr>\n",
              "      <th>0</th>\n",
              "      <td>4456</td>\n",
              "      <td>8581</td>\n",
              "      <td>1.687541e+09</td>\n",
              "    </tr>\n",
              "    <tr>\n",
              "      <th>1</th>\n",
              "      <td>142</td>\n",
              "      <td>1964</td>\n",
              "      <td>1.679585e+09</td>\n",
              "    </tr>\n",
              "    <tr>\n",
              "      <th>2</th>\n",
              "      <td>362</td>\n",
              "      <td>3705</td>\n",
              "      <td>1.706872e+09</td>\n",
              "    </tr>\n",
              "    <tr>\n",
              "      <th>3</th>\n",
              "      <td>1809</td>\n",
              "      <td>11317</td>\n",
              "      <td>1.673533e+09</td>\n",
              "    </tr>\n",
              "    <tr>\n",
              "      <th>4</th>\n",
              "      <td>4384</td>\n",
              "      <td>1323</td>\n",
              "      <td>1.681402e+09</td>\n",
              "    </tr>\n",
              "  </tbody>\n",
              "</table>\n",
              "</div>"
            ],
            "text/plain": [
              "   user_id  book_id     timestamp\n",
              "0     4456     8581  1.687541e+09\n",
              "1      142     1964  1.679585e+09\n",
              "2      362     3705  1.706872e+09\n",
              "3     1809    11317  1.673533e+09\n",
              "4     4384     1323  1.681402e+09"
            ]
          },
          "metadata": {},
          "output_type": "display_data"
        },
        {
          "data": {
            "text/html": [
              "<div>\n",
              "<style scoped>\n",
              "    .dataframe tbody tr th:only-of-type {\n",
              "        vertical-align: middle;\n",
              "    }\n",
              "\n",
              "    .dataframe tbody tr th {\n",
              "        vertical-align: top;\n",
              "    }\n",
              "\n",
              "    .dataframe thead th {\n",
              "        text-align: right;\n",
              "    }\n",
              "</style>\n",
              "<table border=\"1\" class=\"dataframe\">\n",
              "  <thead>\n",
              "    <tr style=\"text-align: right;\">\n",
              "      <th></th>\n",
              "      <th>Title</th>\n",
              "      <th>Author</th>\n",
              "      <th>ISBN Valid</th>\n",
              "      <th>Publisher</th>\n",
              "      <th>Subjects</th>\n",
              "      <th>book_id</th>\n",
              "    </tr>\n",
              "  </thead>\n",
              "  <tbody>\n",
              "    <tr>\n",
              "      <th>0</th>\n",
              "      <td>Classification décimale universelle : édition ...</td>\n",
              "      <td>NaN</td>\n",
              "      <td>9782871303336; 2871303339</td>\n",
              "      <td>Ed du CEFAL</td>\n",
              "      <td>Classification décimale universelle; Indexatio...</td>\n",
              "      <td>0</td>\n",
              "    </tr>\n",
              "    <tr>\n",
              "      <th>1</th>\n",
              "      <td>Les interactions dans l'enseignement des langu...</td>\n",
              "      <td>Cicurel, Francine, 1947-</td>\n",
              "      <td>9782278058327; 2278058320</td>\n",
              "      <td>Didier</td>\n",
              "      <td>didactique--langue étrangère - enseignement; d...</td>\n",
              "      <td>1</td>\n",
              "    </tr>\n",
              "    <tr>\n",
              "      <th>2</th>\n",
              "      <td>Histoire de vie et recherche biographique : pe...</td>\n",
              "      <td>NaN</td>\n",
              "      <td>2343190194; 9782343190198</td>\n",
              "      <td>L'Harmattan</td>\n",
              "      <td>Histoires de vie en sociologie; Sciences socia...</td>\n",
              "      <td>2</td>\n",
              "    </tr>\n",
              "    <tr>\n",
              "      <th>3</th>\n",
              "      <td>Ce livre devrait me permettre de résoudre le c...</td>\n",
              "      <td>Mazas, Sylvain, 1980-</td>\n",
              "      <td>9782365350020; 236535002X; 9782365350488; 2365...</td>\n",
              "      <td>Vraoum!</td>\n",
              "      <td>Moyen-Orient; Bandes dessinées autobiographiqu...</td>\n",
              "      <td>3</td>\n",
              "    </tr>\n",
              "    <tr>\n",
              "      <th>4</th>\n",
              "      <td>Les années glorieuses : roman /</td>\n",
              "      <td>Lemaitre, Pierre, 1951-</td>\n",
              "      <td>9782702180815; 2702180817; 9782702183618; 2702...</td>\n",
              "      <td>Calmann-Lévy</td>\n",
              "      <td>France--1945-1975; Roman historique; Roman fra...</td>\n",
              "      <td>4</td>\n",
              "    </tr>\n",
              "  </tbody>\n",
              "</table>\n",
              "</div>"
            ],
            "text/plain": [
              "                                               Title  \\\n",
              "0  Classification décimale universelle : édition ...   \n",
              "1  Les interactions dans l'enseignement des langu...   \n",
              "2  Histoire de vie et recherche biographique : pe...   \n",
              "3  Ce livre devrait me permettre de résoudre le c...   \n",
              "4                    Les années glorieuses : roman /   \n",
              "\n",
              "                     Author  \\\n",
              "0                       NaN   \n",
              "1  Cicurel, Francine, 1947-   \n",
              "2                       NaN   \n",
              "3     Mazas, Sylvain, 1980-   \n",
              "4   Lemaitre, Pierre, 1951-   \n",
              "\n",
              "                                          ISBN Valid     Publisher  \\\n",
              "0                          9782871303336; 2871303339   Ed du CEFAL   \n",
              "1                          9782278058327; 2278058320        Didier   \n",
              "2                          2343190194; 9782343190198   L'Harmattan   \n",
              "3  9782365350020; 236535002X; 9782365350488; 2365...       Vraoum!   \n",
              "4  9782702180815; 2702180817; 9782702183618; 2702...  Calmann-Lévy   \n",
              "\n",
              "                                            Subjects  book_id  \n",
              "0  Classification décimale universelle; Indexatio...        0  \n",
              "1  didactique--langue étrangère - enseignement; d...        1  \n",
              "2  Histoires de vie en sociologie; Sciences socia...        2  \n",
              "3  Moyen-Orient; Bandes dessinées autobiographiqu...        3  \n",
              "4  France--1945-1975; Roman historique; Roman fra...        4  "
            ]
          },
          "metadata": {},
          "output_type": "display_data"
        }
      ],
      "source": [
        "# Renaming columns for clarity\n",
        "interactions.rename(columns={'u': 'user_id'}, inplace=True)\n",
        "interactions.rename(columns={'i': 'book_id'}, inplace=True)\n",
        "interactions.rename(columns={'t': 'timestamp'}, inplace=True)\n",
        "books.rename(columns={'i': 'book_id'}, inplace=True)\n",
        "\n",
        "# Checking the new columns\n",
        "display(interactions.head())\n",
        "display(books.head())"
      ]
    },
    {
      "cell_type": "markdown",
      "metadata": {},
      "source": [
        "Step 2: Check the Number of Interactions, Users and Books"
      ]
    },
    {
      "cell_type": "code",
      "execution_count": 35,
      "metadata": {
        "colab": {
          "base_uri": "https://localhost:8080/"
        },
        "id": "mPnCARFWfzv-",
        "outputId": "640caf3c-f1e4-4dec-f62a-c38de9b51719"
      },
      "outputs": [
        {
          "name": "stdout",
          "output_type": "stream",
          "text": [
            "Number of users = 7838, \n",
            " Number of items = 15109 \n",
            " Number of interactions = 87047\n"
          ]
        }
      ],
      "source": [
        "n_users = interactions.user_id.nunique()\n",
        "n_books = interactions.book_id.nunique()\n",
        "print(f'Number of users = {n_users}, \\n Number of items = {n_books} \\n Number of interactions = {len(interactions)}')"
      ]
    },
    {
      "cell_type": "markdown",
      "metadata": {},
      "source": [
        "Step 3: Split the Data into Training and Test Sets"
      ]
    },
    {
      "cell_type": "code",
      "execution_count": 36,
      "metadata": {
        "colab": {
          "base_uri": "https://localhost:8080/",
          "height": 363
        },
        "id": "HQad20PNiQsH",
        "outputId": "d72fc7b0-ee75-4e76-d06d-1574b7341e65"
      },
      "outputs": [
        {
          "data": {
            "text/html": [
              "<div>\n",
              "<style scoped>\n",
              "    .dataframe tbody tr th:only-of-type {\n",
              "        vertical-align: middle;\n",
              "    }\n",
              "\n",
              "    .dataframe tbody tr th {\n",
              "        vertical-align: top;\n",
              "    }\n",
              "\n",
              "    .dataframe thead th {\n",
              "        text-align: right;\n",
              "    }\n",
              "</style>\n",
              "<table border=\"1\" class=\"dataframe\">\n",
              "  <thead>\n",
              "    <tr style=\"text-align: right;\">\n",
              "      <th></th>\n",
              "      <th>user_id</th>\n",
              "      <th>book_id</th>\n",
              "      <th>timestamp</th>\n",
              "    </tr>\n",
              "  </thead>\n",
              "  <tbody>\n",
              "    <tr>\n",
              "      <th>21035</th>\n",
              "      <td>0</td>\n",
              "      <td>0</td>\n",
              "      <td>1.680191e+09</td>\n",
              "    </tr>\n",
              "    <tr>\n",
              "      <th>28842</th>\n",
              "      <td>0</td>\n",
              "      <td>1</td>\n",
              "      <td>1.680783e+09</td>\n",
              "    </tr>\n",
              "    <tr>\n",
              "      <th>3958</th>\n",
              "      <td>0</td>\n",
              "      <td>2</td>\n",
              "      <td>1.680801e+09</td>\n",
              "    </tr>\n",
              "    <tr>\n",
              "      <th>29592</th>\n",
              "      <td>0</td>\n",
              "      <td>3</td>\n",
              "      <td>1.683715e+09</td>\n",
              "    </tr>\n",
              "    <tr>\n",
              "      <th>6371</th>\n",
              "      <td>0</td>\n",
              "      <td>3</td>\n",
              "      <td>1.683715e+09</td>\n",
              "    </tr>\n",
              "    <tr>\n",
              "      <th>41220</th>\n",
              "      <td>0</td>\n",
              "      <td>4</td>\n",
              "      <td>1.686569e+09</td>\n",
              "    </tr>\n",
              "    <tr>\n",
              "      <th>12217</th>\n",
              "      <td>0</td>\n",
              "      <td>5</td>\n",
              "      <td>1.687014e+09</td>\n",
              "    </tr>\n",
              "    <tr>\n",
              "      <th>19703</th>\n",
              "      <td>0</td>\n",
              "      <td>6</td>\n",
              "      <td>1.687014e+09</td>\n",
              "    </tr>\n",
              "    <tr>\n",
              "      <th>64522</th>\n",
              "      <td>0</td>\n",
              "      <td>7</td>\n",
              "      <td>1.687014e+09</td>\n",
              "    </tr>\n",
              "    <tr>\n",
              "      <th>29380</th>\n",
              "      <td>0</td>\n",
              "      <td>8</td>\n",
              "      <td>1.687260e+09</td>\n",
              "    </tr>\n",
              "  </tbody>\n",
              "</table>\n",
              "</div>"
            ],
            "text/plain": [
              "       user_id  book_id     timestamp\n",
              "21035        0        0  1.680191e+09\n",
              "28842        0        1  1.680783e+09\n",
              "3958         0        2  1.680801e+09\n",
              "29592        0        3  1.683715e+09\n",
              "6371         0        3  1.683715e+09\n",
              "41220        0        4  1.686569e+09\n",
              "12217        0        5  1.687014e+09\n",
              "19703        0        6  1.687014e+09\n",
              "64522        0        7  1.687014e+09\n",
              "29380        0        8  1.687260e+09"
            ]
          },
          "execution_count": 36,
          "metadata": {},
          "output_type": "execute_result"
        }
      ],
      "source": [
        "# let's first sort the interactions by user and time stamp\n",
        "interactions = interactions.sort_values([\"user_id\", \"timestamp\"])\n",
        "interactions.head(10)"
      ]
    },
    {
      "cell_type": "code",
      "execution_count": 37,
      "metadata": {
        "colab": {
          "base_uri": "https://localhost:8080/",
          "height": 363
        },
        "id": "5vkv5DVbifS5",
        "outputId": "3e03dc6d-2724-4e0d-f254-e1f19329cf29"
      },
      "outputs": [
        {
          "data": {
            "text/html": [
              "<div>\n",
              "<style scoped>\n",
              "    .dataframe tbody tr th:only-of-type {\n",
              "        vertical-align: middle;\n",
              "    }\n",
              "\n",
              "    .dataframe tbody tr th {\n",
              "        vertical-align: top;\n",
              "    }\n",
              "\n",
              "    .dataframe thead th {\n",
              "        text-align: right;\n",
              "    }\n",
              "</style>\n",
              "<table border=\"1\" class=\"dataframe\">\n",
              "  <thead>\n",
              "    <tr style=\"text-align: right;\">\n",
              "      <th></th>\n",
              "      <th>user_id</th>\n",
              "      <th>book_id</th>\n",
              "      <th>timestamp</th>\n",
              "      <th>pct_rank</th>\n",
              "    </tr>\n",
              "  </thead>\n",
              "  <tbody>\n",
              "    <tr>\n",
              "      <th>0</th>\n",
              "      <td>0</td>\n",
              "      <td>0</td>\n",
              "      <td>1.680191e+09</td>\n",
              "      <td>0.04</td>\n",
              "    </tr>\n",
              "    <tr>\n",
              "      <th>1</th>\n",
              "      <td>0</td>\n",
              "      <td>1</td>\n",
              "      <td>1.680783e+09</td>\n",
              "      <td>0.08</td>\n",
              "    </tr>\n",
              "    <tr>\n",
              "      <th>2</th>\n",
              "      <td>0</td>\n",
              "      <td>2</td>\n",
              "      <td>1.680801e+09</td>\n",
              "      <td>0.12</td>\n",
              "    </tr>\n",
              "    <tr>\n",
              "      <th>3</th>\n",
              "      <td>0</td>\n",
              "      <td>3</td>\n",
              "      <td>1.683715e+09</td>\n",
              "      <td>0.16</td>\n",
              "    </tr>\n",
              "    <tr>\n",
              "      <th>4</th>\n",
              "      <td>0</td>\n",
              "      <td>3</td>\n",
              "      <td>1.683715e+09</td>\n",
              "      <td>0.20</td>\n",
              "    </tr>\n",
              "    <tr>\n",
              "      <th>5</th>\n",
              "      <td>0</td>\n",
              "      <td>4</td>\n",
              "      <td>1.686569e+09</td>\n",
              "      <td>0.24</td>\n",
              "    </tr>\n",
              "    <tr>\n",
              "      <th>6</th>\n",
              "      <td>0</td>\n",
              "      <td>5</td>\n",
              "      <td>1.687014e+09</td>\n",
              "      <td>0.28</td>\n",
              "    </tr>\n",
              "    <tr>\n",
              "      <th>7</th>\n",
              "      <td>0</td>\n",
              "      <td>6</td>\n",
              "      <td>1.687014e+09</td>\n",
              "      <td>0.32</td>\n",
              "    </tr>\n",
              "    <tr>\n",
              "      <th>8</th>\n",
              "      <td>0</td>\n",
              "      <td>7</td>\n",
              "      <td>1.687014e+09</td>\n",
              "      <td>0.36</td>\n",
              "    </tr>\n",
              "    <tr>\n",
              "      <th>9</th>\n",
              "      <td>0</td>\n",
              "      <td>8</td>\n",
              "      <td>1.687260e+09</td>\n",
              "      <td>0.40</td>\n",
              "    </tr>\n",
              "  </tbody>\n",
              "</table>\n",
              "</div>"
            ],
            "text/plain": [
              "   user_id  book_id     timestamp  pct_rank\n",
              "0        0        0  1.680191e+09      0.04\n",
              "1        0        1  1.680783e+09      0.08\n",
              "2        0        2  1.680801e+09      0.12\n",
              "3        0        3  1.683715e+09      0.16\n",
              "4        0        3  1.683715e+09      0.20\n",
              "5        0        4  1.686569e+09      0.24\n",
              "6        0        5  1.687014e+09      0.28\n",
              "7        0        6  1.687014e+09      0.32\n",
              "8        0        7  1.687014e+09      0.36\n",
              "9        0        8  1.687260e+09      0.40"
            ]
          },
          "execution_count": 37,
          "metadata": {},
          "output_type": "execute_result"
        }
      ],
      "source": [
        "interactions[\"pct_rank\"] = interactions.groupby(\"user_id\")[\"timestamp\"].rank(pct=True, method='dense')\n",
        "interactions.reset_index(inplace=True, drop=True)\n",
        "interactions.head(10)"
      ]
    },
    {
      "cell_type": "code",
      "execution_count": 38,
      "metadata": {
        "colab": {
          "base_uri": "https://localhost:8080/"
        },
        "id": "5wzqXAnGiy1f",
        "outputId": "cd5c2445-53bc-4419-b01c-8ffdab048b8c"
      },
      "outputs": [
        {
          "name": "stdout",
          "output_type": "stream",
          "text": [
            "Training set size: 65419\n",
            "Testing set size: 21628\n"
          ]
        }
      ],
      "source": [
        "train_data = interactions[interactions[\"pct_rank\"] < 0.8]\n",
        "test_data = interactions[interactions[\"pct_rank\"] >= 0.8]\n",
        "print(\"Training set size:\", train_data.shape[0])\n",
        "print(\"Testing set size:\", test_data.shape[0])"
      ]
    },
    {
      "cell_type": "markdown",
      "metadata": {},
      "source": [
        "Task 2: Creating User-Book Matrices for Implicit Feedback"
      ]
    },
    {
      "cell_type": "code",
      "execution_count": 90,
      "metadata": {
        "colab": {
          "base_uri": "https://localhost:8080/"
        },
        "id": "1Hn5Y3Aqi9lk",
        "outputId": "c515fa19-da5f-4832-bce1-f4bd641c537b"
      },
      "outputs": [
        {
          "name": "stdout",
          "output_type": "stream",
          "text": [
            "number of users = 7838 | number of books = 15109\n"
          ]
        }
      ],
      "source": [
        "print('number of users =', n_users, '| number of books =', n_books)"
      ]
    },
    {
      "cell_type": "markdown",
      "metadata": {
        "id": "z3R6PtPijaoO"
      },
      "source": [
        "Step 1: Define the Function to Create the Data Matrix"
      ]
    },
    {
      "cell_type": "code",
      "execution_count": null,
      "metadata": {
        "id": "GA_dRPurjIJm"
      },
      "outputs": [],
      "source": [
        "import numpy as np\n",
        "\n",
        "# Define a function to create the data matrix (1ST ATTEMPT)\n",
        "def create_data_matrix(data, n_users, n_books):\n",
        "    \"\"\"\n",
        "    This function returns a numpy matrix with shape (n_users, n_items).\n",
        "    Each entry is a binary value indicating positive interaction.\n",
        "    \"\"\"\n",
        "    data_matrix = np.zeros((n_users, n_books))\n",
        "    data_matrix[data[\"user_id\"].values, data[\"book_id\"].values] = 1\n",
        "    return data_matrix\n",
        "\n",
        "    # Subtract 1 from item_id values to adjust for 0-based indexing\n",
        "    # Ensure item_id values are within the valid range\n",
        "    # valid_item_ids = data[\"item_id\"][data[\"item_id\"] <= n_items].values -1\n",
        "    # valid_user_ids = data[\"user_id\"][data[\"item_id\"] <= n_items].values\n",
        "    # data_matrix[valid_user_ids, valid_item_ids] = 1\n",
        "\n",
        "    # return data_matrix"
      ]
    },
    {
      "cell_type": "code",
      "execution_count": 111,
      "metadata": {},
      "outputs": [],
      "source": [
        "# Define a function to create the data matrix (2ND ATTEMPT)\n",
        "def create_data_matrix(data, n_users, n_books):\n",
        "    \"\"\"\n",
        "    This function returns a numpy matrix with shape (n_users, n_items).\n",
        "    Each entry is a binary value indicating positive interaction.\n",
        "    \"\"\"\n",
        "    data_matrix = np.zeros((n_users, n_books))\n",
        "    for user_id, book_id in data:\n",
        "        if 0 <= user_id < n_users and 0 <= book_id < n_books:\n",
        "            data_matrix[user_id, book_id] = 1\n",
        "    return data_matrix"
      ]
    },
    {
      "cell_type": "markdown",
      "metadata": {
        "id": "Y9rEGpGnjdpE"
      },
      "source": [
        "Step 2: Create the Training and Testing Matrices"
      ]
    },
    {
      "cell_type": "code",
      "execution_count": 112,
      "metadata": {
        "colab": {
          "base_uri": "https://localhost:8080/"
        },
        "id": "_auah2GqlWUb",
        "outputId": "7eda4d29-8f8a-47d7-975d-a19b715aa4b8"
      },
      "outputs": [
        {
          "name": "stdout",
          "output_type": "stream",
          "text": [
            "train_data_matrix\n",
            "[[0. 0. 0. ... 0. 0. 0.]\n",
            " [0. 0. 0. ... 0. 0. 0.]\n",
            " [0. 0. 0. ... 0. 0. 0.]\n",
            " ...\n",
            " [0. 0. 0. ... 0. 0. 0.]\n",
            " [0. 0. 0. ... 0. 0. 0.]\n",
            " [0. 0. 0. ... 0. 0. 0.]]\n",
            "number of non-zero values:  49461.0\n",
            "test_data_matrix\n",
            "[[0. 0. 0. ... 0. 0. 0.]\n",
            " [0. 0. 0. ... 0. 0. 0.]\n",
            " [0. 0. 0. ... 0. 0. 0.]\n",
            " ...\n",
            " [0. 0. 0. ... 0. 0. 0.]\n",
            " [0. 0. 0. ... 0. 0. 0.]\n",
            " [0. 0. 0. ... 0. 0. 0.]]\n",
            "number of non-zero values:  19297.0\n"
          ]
        }
      ],
      "source": [
        "# Create the training and testing matrices\n",
        "train_data_matrix = create_data_matrix(train_data, n_users, n_books)\n",
        "test_data_matrix = create_data_matrix(test_data, n_users, n_books)\n",
        "\n",
        "# Display the matrices to understand their structure\n",
        "print('train_data_matrix')\n",
        "print(train_data_matrix)\n",
        "print(\"number of non-zero values: \", np.sum(train_data_matrix))\n",
        "print('test_data_matrix')\n",
        "print(test_data_matrix)\n",
        "print(\"number of non-zero values: \", np.sum(test_data_matrix))"
      ]
    },
    {
      "cell_type": "markdown",
      "metadata": {
        "id": "Y8j2vPobl31m"
      },
      "source": [
        "Step 3: Visualize the User-Item Interaction Matrices"
      ]
    },
    {
      "cell_type": "code",
      "execution_count": 121,
      "metadata": {
        "colab": {
          "base_uri": "https://localhost:8080/",
          "height": 713
        },
        "id": "V4ZSO9F8l6rT",
        "outputId": "5b6e4e6e-f3b3-43c4-ae11-59d214abfff1"
      },
      "outputs": [
        {
          "data": {
            "image/png": "[encoded data removed]",
            "text/plain": [
              "<Figure size 1000x800 with 2 Axes>"
            ]
          },
          "metadata": {},
          "output_type": "display_data"
        }
      ],
      "source": [
        "import matplotlib.pyplot as plt\n",
        "import seaborn as sns\n",
        "\n",
        "# Function to plot a heatmap for a subset of the user-item matrix\n",
        "def plot_interaction_heatmap(data_matrix, title, num_users=50, num_items=50):\n",
        "    \"\"\"\n",
        "    Plots a heatmap of a subset of the user-item interaction matrix.\n",
        "    Parameters:\n",
        "        data_matrix: The matrix to visualize.\n",
        "        title: The title of the plot.\n",
        "        num_users: The number of users to display (rows).\n",
        "        num_items: The number of items to display (columns).\n",
        "    \"\"\"\n",
        "    # Extract a subset of the matrix for visualization purposes\n",
        "    matrix_subset = data_matrix[:num_users, :num_items]\n",
        "\n",
        "    plt.figure(figsize=(10, 8))\n",
        "    sns.heatmap(matrix_subset, cmap=\"YlGnBu\", cbar=True, cbar_kws={'label': 'Interaction (1 = Positive, 0 = None)'})\n",
        "    plt.xlabel('Item ID')\n",
        "    plt.ylabel('User ID')\n",
        "    plt.title(title)\n",
        "    plt.show()\n",
        "\n",
        "# Visualize a subset of the training and testing matrices\n",
        "plot_interaction_heatmap(train_data_matrix, 'User-Item Interaction Matrix (Train Data)')"
      ]
    },
    {
      "cell_type": "markdown",
      "metadata": {
        "id": "eobBRJAfmkoP"
      },
      "source": [
        "Task 3: Item-to-Item Collaborative Filtering with Implicit Feedback"
      ]
    },
    {
      "cell_type": "code",
      "execution_count": 122,
      "metadata": {
        "colab": {
          "base_uri": "https://localhost:8080/"
        },
        "id": "Hr0cVoSvmlgq",
        "outputId": "b69b3984-e647-4018-c1c0-5435a2bb3994"
      },
      "outputs": [
        {
          "name": "stdout",
          "output_type": "stream",
          "text": [
            "Item-Item Similarity Matrix:\n",
            "[[1. 0. 0. ... 0. 0. 0.]\n",
            " [0. 1. 0. ... 0. 0. 0.]\n",
            " [0. 0. 1. ... 0. 0. 0.]\n",
            " ...\n",
            " [0. 0. 0. ... 1. 0. 0.]\n",
            " [0. 0. 0. ... 0. 1. 0.]\n",
            " [0. 0. 0. ... 0. 0. 1.]]\n",
            "(15109, 15109)\n"
          ]
        }
      ],
      "source": [
        "from sklearn.metrics.pairwise import cosine_similarity\n",
        "\n",
        "# Compute the item-item similarity matrix\n",
        "# Check sklearn documentation for cosine similarity to understand how we are\n",
        "# using this function.\n",
        "item_similarity = cosine_similarity(train_data_matrix.T)\n",
        "print(\"Item-Item Similarity Matrix:\")\n",
        "print(item_similarity)\n",
        "print(item_similarity.shape)"
      ]
    },
    {
      "cell_type": "code",
      "execution_count": 123,
      "metadata": {
        "colab": {
          "base_uri": "https://localhost:8080/",
          "height": 713
        },
        "id": "Q2dkbHLdnExU",
        "outputId": "731e065a-a9aa-454d-ce30-c18baa3fa332"
      },
      "outputs": [
        {
          "data": {
            "image/png": "[encoded data removed]",
            "text/plain": [
              "<Figure size 1000x800 with 2 Axes>"
            ]
          },
          "metadata": {},
          "output_type": "display_data"
        }
      ],
      "source": [
        "# Function to visualize the item similarity matrix\n",
        "def plot_item_similarity_heatmap(similarity_matrix, title, num_items=50):\n",
        "    \"\"\"\n",
        "    Plots a heatmap of a subset of the item similarity matrix.\n",
        "    Parameters:\n",
        "        similarity_matrix: The item-item similarity matrix.\n",
        "        title: The title of the plot.\n",
        "        num_items: The number of items to display (both rows and columns).\n",
        "    \"\"\"\n",
        "    # Extract a subset of the matrix for visualization\n",
        "    matrix_subset = similarity_matrix[:num_items, :num_items]\n",
        "\n",
        "    plt.figure(figsize=(10, 8))\n",
        "    sns.heatmap(matrix_subset, cmap=\"coolwarm\", cbar=True, cbar_kws={'label': 'Similarity Score'})\n",
        "    plt.xlabel('Item ID')\n",
        "    plt.ylabel('Item ID')\n",
        "    plt.title(title)\n",
        "    plt.show()\n",
        "\n",
        "# Visualize a subset of the item similarity matrix\n",
        "plot_item_similarity_heatmap(item_similarity, 'Item-Item Similarity Matrix')"
      ]
    },
    {
      "cell_type": "code",
      "execution_count": 133,
      "metadata": {},
      "outputs": [
        {
          "data": {
            "text/plain": [
              "0.9999999999999998"
            ]
          },
          "execution_count": 133,
          "metadata": {},
          "output_type": "execute_result"
        }
      ],
      "source": [
        "item_similarity[12, 9]"
      ]
    },
    {
      "cell_type": "code",
      "execution_count": 136,
      "metadata": {},
      "outputs": [
        {
          "data": {
            "text/html": [
              "<div>\n",
              "<style scoped>\n",
              "    .dataframe tbody tr th:only-of-type {\n",
              "        vertical-align: middle;\n",
              "    }\n",
              "\n",
              "    .dataframe tbody tr th {\n",
              "        vertical-align: top;\n",
              "    }\n",
              "\n",
              "    .dataframe thead th {\n",
              "        text-align: right;\n",
              "    }\n",
              "</style>\n",
              "<table border=\"1\" class=\"dataframe\">\n",
              "  <thead>\n",
              "    <tr style=\"text-align: right;\">\n",
              "      <th></th>\n",
              "      <th>Title</th>\n",
              "      <th>Author</th>\n",
              "      <th>ISBN Valid</th>\n",
              "      <th>Publisher</th>\n",
              "      <th>Subjects</th>\n",
              "      <th>book_id</th>\n",
              "    </tr>\n",
              "  </thead>\n",
              "  <tbody>\n",
              "    <tr>\n",
              "      <th>12</th>\n",
              "      <td>L'apprentissage par projets au secondaire : gu...</td>\n",
              "      <td>Larmer, John</td>\n",
              "      <td>9782765033202; 276503320X</td>\n",
              "      <td>Chenelière éducation</td>\n",
              "      <td>apprentissage (psychologie)--enseignement seco...</td>\n",
              "      <td>12</td>\n",
              "    </tr>\n",
              "  </tbody>\n",
              "</table>\n",
              "</div>"
            ],
            "text/plain": [
              "                                                Title        Author  \\\n",
              "12  L'apprentissage par projets au secondaire : gu...  Larmer, John   \n",
              "\n",
              "                   ISBN Valid             Publisher  \\\n",
              "12  9782765033202; 276503320X  Chenelière éducation   \n",
              "\n",
              "                                             Subjects  book_id  \n",
              "12  apprentissage (psychologie)--enseignement seco...       12  "
            ]
          },
          "metadata": {},
          "output_type": "display_data"
        },
        {
          "data": {
            "text/html": [
              "<div>\n",
              "<style scoped>\n",
              "    .dataframe tbody tr th:only-of-type {\n",
              "        vertical-align: middle;\n",
              "    }\n",
              "\n",
              "    .dataframe tbody tr th {\n",
              "        vertical-align: top;\n",
              "    }\n",
              "\n",
              "    .dataframe thead th {\n",
              "        text-align: right;\n",
              "    }\n",
              "</style>\n",
              "<table border=\"1\" class=\"dataframe\">\n",
              "  <thead>\n",
              "    <tr style=\"text-align: right;\">\n",
              "      <th></th>\n",
              "      <th>Title</th>\n",
              "      <th>Author</th>\n",
              "      <th>ISBN Valid</th>\n",
              "      <th>Publisher</th>\n",
              "      <th>Subjects</th>\n",
              "      <th>book_id</th>\n",
              "    </tr>\n",
              "  </thead>\n",
              "  <tbody>\n",
              "    <tr>\n",
              "      <th>9</th>\n",
              "      <td>Le mirage de la croissance verte /</td>\n",
              "      <td>Auffret, Anthony</td>\n",
              "      <td>9782413043591; 2413043594</td>\n",
              "      <td>Delcourt</td>\n",
              "      <td>Développement économique--Aspect environnement...</td>\n",
              "      <td>9</td>\n",
              "    </tr>\n",
              "  </tbody>\n",
              "</table>\n",
              "</div>"
            ],
            "text/plain": [
              "                                Title            Author  \\\n",
              "9  Le mirage de la croissance verte /  Auffret, Anthony   \n",
              "\n",
              "                  ISBN Valid Publisher  \\\n",
              "9  9782413043591; 2413043594  Delcourt   \n",
              "\n",
              "                                            Subjects  book_id  \n",
              "9  Développement économique--Aspect environnement...        9  "
            ]
          },
          "metadata": {},
          "output_type": "display_data"
        }
      ],
      "source": [
        "# Print the item with ID 12\n",
        "display(books[books['book_id'] == 12])\n",
        "# Print the item with ID 9\n",
        "display(books[books['book_id'] == 9])"
      ]
    },
    {
      "cell_type": "code",
      "execution_count": 128,
      "metadata": {},
      "outputs": [],
      "source": [
        "# From the item similarity matrix, find the most similar items to a given item\n",
        "def get_most_similar_items(item_id, similarity_matrix, n=5):\n",
        "    \"\"\"\n",
        "    Returns the most similar items to a given item based on the similarity matrix.\n",
        "    Parameters:\n",
        "        item_id: The ID of the item for which to find similar items.\n",
        "        similarity_matrix: The item-item similarity matrix.\n",
        "        n: The number of similar items to return.\n",
        "    Returns:\n",
        "        A list of tuples containing item IDs and their similarity scores.\n",
        "    \"\"\"\n",
        "    # Get the similarity scores for the given item\n",
        "    similarity_scores = similarity_matrix[item_id]\n",
        "    \n",
        "    # Get the indices of the most similar items\n",
        "    similar_items_indices = np.argsort(similarity_scores)[::-1][:n]\n",
        "    \n",
        "    # Create a list of tuples (item_id, similarity_score)\n",
        "    similar_items = [(i, similarity_scores[i]) for i in similar_items_indices]\n",
        "    \n",
        "    return similar_items"
      ]
    },
    {
      "cell_type": "code",
      "execution_count": 129,
      "metadata": {},
      "outputs": [
        {
          "name": "stdout",
          "output_type": "stream",
          "text": [
            "Most similar items to item 19:\n",
            "Item ID: 13477, Similarity Score: 1.0\n",
            "Item ID: 19, Similarity Score: 1.0\n",
            "Item ID: 13416, Similarity Score: 0.7071067811865475\n",
            "Item ID: 7944, Similarity Score: 0.4082482904638631\n",
            "Item ID: 624, Similarity Score: 0.2886751345948129\n"
          ]
        }
      ],
      "source": [
        "# Example usage\n",
        "item_id = 19\n",
        "similar_items = get_most_similar_items(item_id, item_similarity, n=5)\n",
        "print(f\"Most similar items to item {item_id}:\")\n",
        "for item, score in similar_items:\n",
        "    print(f\"Item ID: {item}, Similarity Score: {score}\")"
      ]
    },
    {
      "cell_type": "code",
      "execution_count": 132,
      "metadata": {},
      "outputs": [
        {
          "data": {
            "text/html": [
              "<div>\n",
              "<style scoped>\n",
              "    .dataframe tbody tr th:only-of-type {\n",
              "        vertical-align: middle;\n",
              "    }\n",
              "\n",
              "    .dataframe tbody tr th {\n",
              "        vertical-align: top;\n",
              "    }\n",
              "\n",
              "    .dataframe thead th {\n",
              "        text-align: right;\n",
              "    }\n",
              "</style>\n",
              "<table border=\"1\" class=\"dataframe\">\n",
              "  <thead>\n",
              "    <tr style=\"text-align: right;\">\n",
              "      <th></th>\n",
              "      <th>Title</th>\n",
              "      <th>Author</th>\n",
              "      <th>ISBN Valid</th>\n",
              "      <th>Publisher</th>\n",
              "      <th>Subjects</th>\n",
              "      <th>book_id</th>\n",
              "    </tr>\n",
              "  </thead>\n",
              "  <tbody>\n",
              "    <tr>\n",
              "      <th>13477</th>\n",
              "      <td>Mathématique, troisième année : méthodologie, ...</td>\n",
              "      <td>NaN</td>\n",
              "      <td>NaN</td>\n",
              "      <td>Librairie de l'Etat de Berne</td>\n",
              "      <td>NaN</td>\n",
              "      <td>13477</td>\n",
              "    </tr>\n",
              "  </tbody>\n",
              "</table>\n",
              "</div>"
            ],
            "text/plain": [
              "                                                   Title Author ISBN Valid  \\\n",
              "13477  Mathématique, troisième année : méthodologie, ...    NaN        NaN   \n",
              "\n",
              "                          Publisher Subjects  book_id  \n",
              "13477  Librairie de l'Etat de Berne      NaN    13477  "
            ]
          },
          "metadata": {},
          "output_type": "display_data"
        },
        {
          "data": {
            "text/html": [
              "<div>\n",
              "<style scoped>\n",
              "    .dataframe tbody tr th:only-of-type {\n",
              "        vertical-align: middle;\n",
              "    }\n",
              "\n",
              "    .dataframe tbody tr th {\n",
              "        vertical-align: top;\n",
              "    }\n",
              "\n",
              "    .dataframe thead th {\n",
              "        text-align: right;\n",
              "    }\n",
              "</style>\n",
              "<table border=\"1\" class=\"dataframe\">\n",
              "  <thead>\n",
              "    <tr style=\"text-align: right;\">\n",
              "      <th></th>\n",
              "      <th>Title</th>\n",
              "      <th>Author</th>\n",
              "      <th>ISBN Valid</th>\n",
              "      <th>Publisher</th>\n",
              "      <th>Subjects</th>\n",
              "      <th>book_id</th>\n",
              "    </tr>\n",
              "  </thead>\n",
              "  <tbody>\n",
              "    <tr>\n",
              "      <th>19</th>\n",
              "      <td>Pays-Bas</td>\n",
              "      <td>NaN</td>\n",
              "      <td>9782067257863; 2067257862</td>\n",
              "      <td>Michelin</td>\n",
              "      <td>Pays-Bas; Guides touristiques et de visite</td>\n",
              "      <td>19</td>\n",
              "    </tr>\n",
              "  </tbody>\n",
              "</table>\n",
              "</div>"
            ],
            "text/plain": [
              "       Title Author                 ISBN Valid Publisher  \\\n",
              "19  Pays-Bas    NaN  9782067257863; 2067257862  Michelin   \n",
              "\n",
              "                                      Subjects  book_id  \n",
              "19  Pays-Bas; Guides touristiques et de visite       19  "
            ]
          },
          "metadata": {},
          "output_type": "display_data"
        },
        {
          "data": {
            "text/html": [
              "<div>\n",
              "<style scoped>\n",
              "    .dataframe tbody tr th:only-of-type {\n",
              "        vertical-align: middle;\n",
              "    }\n",
              "\n",
              "    .dataframe tbody tr th {\n",
              "        vertical-align: top;\n",
              "    }\n",
              "\n",
              "    .dataframe thead th {\n",
              "        text-align: right;\n",
              "    }\n",
              "</style>\n",
              "<table border=\"1\" class=\"dataframe\">\n",
              "  <thead>\n",
              "    <tr style=\"text-align: right;\">\n",
              "      <th></th>\n",
              "      <th>Title</th>\n",
              "      <th>Author</th>\n",
              "      <th>ISBN Valid</th>\n",
              "      <th>Publisher</th>\n",
              "      <th>Subjects</th>\n",
              "      <th>book_id</th>\n",
              "    </tr>\n",
              "  </thead>\n",
              "  <tbody>\n",
              "    <tr>\n",
              "      <th>13416</th>\n",
              "      <td>Amour et merveille : les \"Lais\" de Marie de Fr...</td>\n",
              "      <td>NaN</td>\n",
              "      <td>2852037181; 9782852037182</td>\n",
              "      <td>Diff Slatkine; H Champion</td>\n",
              "      <td>Marie--(de France).--\"Lais\"--[études diverses]</td>\n",
              "      <td>13416</td>\n",
              "    </tr>\n",
              "  </tbody>\n",
              "</table>\n",
              "</div>"
            ],
            "text/plain": [
              "                                                   Title Author  \\\n",
              "13416  Amour et merveille : les \"Lais\" de Marie de Fr...    NaN   \n",
              "\n",
              "                      ISBN Valid                  Publisher  \\\n",
              "13416  2852037181; 9782852037182  Diff Slatkine; H Champion   \n",
              "\n",
              "                                             Subjects  book_id  \n",
              "13416  Marie--(de France).--\"Lais\"--[études diverses]    13416  "
            ]
          },
          "metadata": {},
          "output_type": "display_data"
        },
        {
          "data": {
            "text/html": [
              "<div>\n",
              "<style scoped>\n",
              "    .dataframe tbody tr th:only-of-type {\n",
              "        vertical-align: middle;\n",
              "    }\n",
              "\n",
              "    .dataframe tbody tr th {\n",
              "        vertical-align: top;\n",
              "    }\n",
              "\n",
              "    .dataframe thead th {\n",
              "        text-align: right;\n",
              "    }\n",
              "</style>\n",
              "<table border=\"1\" class=\"dataframe\">\n",
              "  <thead>\n",
              "    <tr style=\"text-align: right;\">\n",
              "      <th></th>\n",
              "      <th>Title</th>\n",
              "      <th>Author</th>\n",
              "      <th>ISBN Valid</th>\n",
              "      <th>Publisher</th>\n",
              "      <th>Subjects</th>\n",
              "      <th>book_id</th>\n",
              "    </tr>\n",
              "  </thead>\n",
              "  <tbody>\n",
              "    <tr>\n",
              "      <th>7944</th>\n",
              "      <td>Une histoire de l'homosexualité /</td>\n",
              "      <td>NaN</td>\n",
              "      <td>2020881357; 9782020881357</td>\n",
              "      <td>Seuil</td>\n",
              "      <td>homosexualité--Antiquité / 21e s. (début)</td>\n",
              "      <td>7944</td>\n",
              "    </tr>\n",
              "  </tbody>\n",
              "</table>\n",
              "</div>"
            ],
            "text/plain": [
              "                                  Title Author                 ISBN Valid  \\\n",
              "7944  Une histoire de l'homosexualité /    NaN  2020881357; 9782020881357   \n",
              "\n",
              "     Publisher                                   Subjects  book_id  \n",
              "7944     Seuil  homosexualité--Antiquité / 21e s. (début)     7944  "
            ]
          },
          "metadata": {},
          "output_type": "display_data"
        }
      ],
      "source": [
        "# Print the suggested items\n",
        "display(books[books[\"book_id\"] == 13477])\n",
        "display(books[books[\"book_id\"] == 19])\n",
        "display(books[books[\"book_id\"] == 13416])\n",
        "display(books[books[\"book_id\"] == 7944])"
      ]
    },
    {
      "cell_type": "code",
      "execution_count": 139,
      "metadata": {
        "colab": {
          "base_uri": "https://localhost:8080/",
          "height": 197
        },
        "id": "czLPv5YdqjxV",
        "outputId": "84ae4cf9-2a44-44e1-a7c9-24d0fae92bb6"
      },
      "outputs": [
        {
          "data": {
            "text/html": [
              "<div>\n",
              "<style scoped>\n",
              "    .dataframe tbody tr th:only-of-type {\n",
              "        vertical-align: middle;\n",
              "    }\n",
              "\n",
              "    .dataframe tbody tr th {\n",
              "        vertical-align: top;\n",
              "    }\n",
              "\n",
              "    .dataframe thead th {\n",
              "        text-align: right;\n",
              "    }\n",
              "</style>\n",
              "<table border=\"1\" class=\"dataframe\">\n",
              "  <thead>\n",
              "    <tr style=\"text-align: right;\">\n",
              "      <th></th>\n",
              "      <th>Title</th>\n",
              "      <th>Author</th>\n",
              "      <th>ISBN Valid</th>\n",
              "      <th>Publisher</th>\n",
              "      <th>Subjects</th>\n",
              "      <th>book_id</th>\n",
              "    </tr>\n",
              "  </thead>\n",
              "  <tbody>\n",
              "    <tr>\n",
              "      <th>46</th>\n",
              "      <td>Le monde sans fin /</td>\n",
              "      <td>Jancovici, Jean-Marc</td>\n",
              "      <td>9782205088168; 2205088165</td>\n",
              "      <td>Dargaud</td>\n",
              "      <td>Climate Change; Environmental Health; Environm...</td>\n",
              "      <td>46</td>\n",
              "    </tr>\n",
              "  </tbody>\n",
              "</table>\n",
              "</div>"
            ],
            "text/plain": [
              "                  Title                Author                 ISBN Valid  \\\n",
              "46  Le monde sans fin /  Jancovici, Jean-Marc  9782205088168; 2205088165   \n",
              "\n",
              "   Publisher                                           Subjects  book_id  \n",
              "46   Dargaud  Climate Change; Environmental Health; Environm...       46  "
            ]
          },
          "metadata": {},
          "output_type": "display_data"
        },
        {
          "data": {
            "text/html": [
              "<div>\n",
              "<style scoped>\n",
              "    .dataframe tbody tr th:only-of-type {\n",
              "        vertical-align: middle;\n",
              "    }\n",
              "\n",
              "    .dataframe tbody tr th {\n",
              "        vertical-align: top;\n",
              "    }\n",
              "\n",
              "    .dataframe thead th {\n",
              "        text-align: right;\n",
              "    }\n",
              "</style>\n",
              "<table border=\"1\" class=\"dataframe\">\n",
              "  <thead>\n",
              "    <tr style=\"text-align: right;\">\n",
              "      <th></th>\n",
              "      <th>Title</th>\n",
              "      <th>Author</th>\n",
              "      <th>ISBN Valid</th>\n",
              "      <th>Publisher</th>\n",
              "      <th>Subjects</th>\n",
              "      <th>book_id</th>\n",
              "    </tr>\n",
              "  </thead>\n",
              "  <tbody>\n",
              "    <tr>\n",
              "      <th>37</th>\n",
              "      <td>Simenon, l'Ostrogoth /</td>\n",
              "      <td>Bocquet, José-Louis</td>\n",
              "      <td>9782505120094; 2505120099; 9782505120100; 2505...</td>\n",
              "      <td>Dargaud</td>\n",
              "      <td>Bandes dessinées; Simenon, Georges</td>\n",
              "      <td>37</td>\n",
              "    </tr>\n",
              "  </tbody>\n",
              "</table>\n",
              "</div>"
            ],
            "text/plain": [
              "                     Title               Author  \\\n",
              "37  Simenon, l'Ostrogoth /  Bocquet, José-Louis   \n",
              "\n",
              "                                           ISBN Valid Publisher  \\\n",
              "37  9782505120094; 2505120099; 9782505120100; 2505...   Dargaud   \n",
              "\n",
              "                              Subjects  book_id  \n",
              "37  Bandes dessinées; Simenon, Georges       37  "
            ]
          },
          "metadata": {},
          "output_type": "display_data"
        }
      ],
      "source": [
        "# Print the item with ID 46\n",
        "display(books[books['book_id'] == 46])\n",
        "\n",
        "# Print the item with ID 37\n",
        "display(books[books['book_id'] == 37])"
      ]
    },
    {
      "cell_type": "markdown",
      "metadata": {
        "id": "127WuDVJunm1"
      },
      "source": [
        "Step 2: Predict Positive Interactions Using Item Similarity"
      ]
    },
    {
      "cell_type": "code",
      "execution_count": 141,
      "metadata": {
        "colab": {
          "base_uri": "https://localhost:8080/"
        },
        "id": "qZPKhSFbtn4G",
        "outputId": "82a98946-008a-470e-c786-cb7052188118"
      },
      "outputs": [
        {
          "name": "stdout",
          "output_type": "stream",
          "text": [
            "Predicted Interaction Matrix:\n",
            "[[0.         0.01964735 0.00252954 ... 0.         0.         0.        ]\n",
            " [0.         0.04382486 0.01006033 ... 0.         0.         0.        ]\n",
            " [0.         0.         0.00134771 ... 0.         0.         0.        ]\n",
            " ...\n",
            " [0.         0.         0.         ... 0.         0.         0.        ]\n",
            " [0.         0.         0.         ... 0.         0.         0.        ]\n",
            " [0.         0.         0.         ... 0.         0.         0.        ]]\n",
            "(7838, 15109)\n"
          ]
        }
      ],
      "source": [
        "import numpy as np\n",
        "\n",
        "# Define the function to predict interactions based on item similarity\n",
        "def item_based_predict(interactions, similarity, epsilon=1e-9):\n",
        "    \"\"\"\n",
        "    Predicts user-item interactions based on item-item similarity.\n",
        "    Parameters:\n",
        "        interactions (numpy array): The user-item interaction matrix.\n",
        "        similarity (numpy array): The item-item similarity matrix.\n",
        "        epsilon (float): Small constant added to the denominator to avoid division by zero.\n",
        "    Returns:\n",
        "        numpy array: The predicted interaction scores for each user-item pair.\n",
        "    \"\"\"\n",
        "    # np.dot does the matrix multiplication. Here we are calculating the\n",
        "    # weighted sum of interactions based on item similarity\n",
        "    pred = similarity.dot(interactions.T) / (similarity.sum(axis=1)[:, np.newaxis] + epsilon)\n",
        "    return pred.T  # Transpose to get users as rows and items as columns\n",
        "\n",
        "# Calculate the item-based predictions for positive interactions\n",
        "item_prediction = item_based_predict(train_data_matrix, item_similarity)\n",
        "print(\"Predicted Interaction Matrix:\")\n",
        "print(item_prediction)\n",
        "print(item_prediction.shape)"
      ]
    },
    {
      "cell_type": "code",
      "execution_count": 142,
      "metadata": {
        "colab": {
          "base_uri": "https://localhost:8080/",
          "height": 713
        },
        "id": "nG2AiQ8vu0ET",
        "outputId": "fd8fbdd7-825f-49a2-8f74-06f63e045ea8"
      },
      "outputs": [
        {
          "data": {
            "image/png": "[encoded data removed]",
            "text/plain": [
              "<Figure size 1000x800 with 2 Axes>"
            ]
          },
          "metadata": {},
          "output_type": "display_data"
        }
      ],
      "source": [
        "# Function to visualize the predicted interaction matrix for a subset of users and items\n",
        "def plot_interaction_prediction_heatmap(prediction_matrix, title, num_users=50, num_items=50):\n",
        "    \"\"\"\n",
        "    Plots a heatmap of a subset of the user-item predicted interaction matrix.\n",
        "    Parameters:\n",
        "        prediction_matrix: The predicted interaction matrix.\n",
        "        title: The title of the plot.\n",
        "        num_users: The number of users to display (rows).\n",
        "        num_items: The number of items to display (columns).\n",
        "    \"\"\"\n",
        "    # Extract a subset of the matrix for visualization\n",
        "    matrix_subset = prediction_matrix[:num_users, :num_items]\n",
        "\n",
        "    plt.figure(figsize=(10, 8))\n",
        "    sns.heatmap(matrix_subset, cmap=\"YlGnBu\", cbar=True, cbar_kws={'label': 'Predicted Interaction Score'})\n",
        "    plt.xlabel('Item ID')\n",
        "    plt.ylabel('User ID')\n",
        "    plt.title(title)\n",
        "    plt.show()\n",
        "\n",
        "# Visualize a subset of the predicted interaction matrix\n",
        "plot_interaction_prediction_heatmap(item_prediction, 'User-Item Predicted Interaction Matrix')"
      ]
    },
    {
      "cell_type": "markdown",
      "metadata": {
        "id": "5wnho0mavKuc"
      },
      "source": [
        "Task 4: User-to-User Collaborative Filtering with Implicit Feedback"
      ]
    },
    {
      "cell_type": "code",
      "execution_count": 143,
      "metadata": {
        "colab": {
          "base_uri": "https://localhost:8080/"
        },
        "id": "dRKQWCj0vNtp",
        "outputId": "b658af21-034c-4088-966a-24573eafa87f"
      },
      "outputs": [
        {
          "name": "stdout",
          "output_type": "stream",
          "text": [
            "User-User Similarity Matrix:\n",
            "[[1. 0. 0. ... 0. 0. 0.]\n",
            " [0. 1. 0. ... 0. 0. 0.]\n",
            " [0. 0. 1. ... 0. 0. 0.]\n",
            " ...\n",
            " [0. 0. 0. ... 1. 0. 0.]\n",
            " [0. 0. 0. ... 0. 0. 0.]\n",
            " [0. 0. 0. ... 0. 0. 0.]]\n",
            "Shape of User Similarity Matrix: (7838, 7838)\n"
          ]
        }
      ],
      "source": [
        "# Compute the user-user similarity matrix\n",
        "user_similarity = cosine_similarity(train_data_matrix)\n",
        "print(\"User-User Similarity Matrix:\")\n",
        "print(user_similarity)\n",
        "\n",
        "# Check the shape as a sanity check\n",
        "print(\"Shape of User Similarity Matrix:\", user_similarity.shape)"
      ]
    },
    {
      "cell_type": "code",
      "execution_count": 147,
      "metadata": {
        "colab": {
          "base_uri": "https://localhost:8080/",
          "height": 713
        },
        "id": "TUfnbUgBv7dJ",
        "outputId": "03f6c80d-91e8-40c1-cfa9-24af6d6d463d"
      },
      "outputs": [
        {
          "data": {
            "image/png": "[encoded data removed]",
            "text/plain": [
              "<Figure size 1000x800 with 2 Axes>"
            ]
          },
          "metadata": {},
          "output_type": "display_data"
        }
      ],
      "source": [
        "# Function to plot the user similarity matrix\n",
        "def plot_user_similarity_heatmap(similarity_matrix, title, num_users=50):\n",
        "    \"\"\"\n",
        "    Plots a heatmap of a subset of the user similarity matrix.\n",
        "    Parameters:\n",
        "        similarity_matrix: The user-user similarity matrix.\n",
        "        title: The title of the plot.\n",
        "        num_users: The number of users to display (both rows and columns).\n",
        "    \"\"\"\n",
        "    # Extract a subset of the matrix for visualization\n",
        "    matrix_subset = similarity_matrix[:num_users, :num_users]\n",
        "\n",
        "    plt.figure(figsize=(10, 8))\n",
        "    sns.heatmap(matrix_subset, cmap=\"coolwarm\", cbar=True, cbar_kws={'label': 'Similarity Score'})\n",
        "    plt.xlabel('User ID')\n",
        "    plt.ylabel('User ID')\n",
        "    plt.title(title)\n",
        "    plt.show()\n",
        "\n",
        "# Visualize a subset of the user similarity matrix\n",
        "plot_user_similarity_heatmap(user_similarity, 'User-User Similarity Matrix')"
      ]
    },
    {
      "cell_type": "code",
      "execution_count": 148,
      "metadata": {},
      "outputs": [
        {
          "name": "stdout",
          "output_type": "stream",
          "text": [
            "Predicted Interaction Matrix (User-Based):\n",
            "[[0.         0.00516441 0.00611098 ... 0.         0.         0.        ]\n",
            " [0.         0.00596982 0.02404238 ... 0.         0.         0.        ]\n",
            " [0.         0.         0.01048962 ... 0.         0.         0.        ]\n",
            " ...\n",
            " [0.         0.         0.         ... 0.         0.         0.        ]\n",
            " [0.         0.         0.         ... 0.         0.         0.        ]\n",
            " [0.         0.         0.         ... 0.         0.         0.        ]]\n",
            "(7838, 15109)\n"
          ]
        }
      ],
      "source": [
        "# Define the function to predict interactions based on user similarity\n",
        "def user_based_predict(interactions, similarity, epsilon=1e-9):\n",
        "    \"\"\"\n",
        "    Predicts user-item interactions based on user-user similarity.\n",
        "    Parameters:\n",
        "        interactions (numpy array): The user-item interaction matrix.\n",
        "        similarity (numpy array): The user-user similarity matrix.\n",
        "        epsilon (float): Small constant added to the denominator to avoid division by zero.\n",
        "    Returns:\n",
        "        numpy array: The predicted interaction scores for each user-item pair.\n",
        "    \"\"\"\n",
        "    # Calculate the weighted sum of interactions based on user similarity\n",
        "    pred = similarity.dot(interactions) / (np.abs(similarity).sum(axis=1)[:, np.newaxis] + epsilon)\n",
        "    return pred\n",
        "\n",
        "# Calculate the user-based predictions for positive interactions\n",
        "user_prediction = user_based_predict(train_data_matrix, user_similarity)\n",
        "print(\"Predicted Interaction Matrix (User-Based):\")\n",
        "print(user_prediction)\n",
        "print(user_prediction.shape)"
      ]
    },
    {
      "cell_type": "code",
      "execution_count": 149,
      "metadata": {},
      "outputs": [
        {
          "data": {
            "image/png": "[encoded data removed]",
            "text/plain": [
              "<Figure size 1000x800 with 2 Axes>"
            ]
          },
          "metadata": {},
          "output_type": "display_data"
        }
      ],
      "source": [
        "# Function to visualize the predicted interaction matrix for a subset of users and items\n",
        "def plot_interaction_prediction_heatmap(prediction_matrix, title, num_users=50, num_items=50):\n",
        "    \"\"\"\n",
        "    Plots a heatmap of a subset of the user-item predicted interaction matrix.\n",
        "    Parameters:\n",
        "        prediction_matrix: The predicted interaction matrix.\n",
        "        title: The title of the plot.\n",
        "        num_users: The number of users to display (rows).\n",
        "        num_items: The number of items to display (columns).\n",
        "    \"\"\"\n",
        "    # Extract a subset of the matrix for visualization\n",
        "    matrix_subset = prediction_matrix[:num_users, :num_items]\n",
        "\n",
        "    plt.figure(figsize=(10, 8))\n",
        "    sns.heatmap(matrix_subset, cmap=\"YlGnBu\", cbar=True, cbar_kws={'label': 'Predicted Interaction Score'})\n",
        "    plt.xlabel('Item ID')\n",
        "    plt.ylabel('User ID')\n",
        "    plt.title(title)\n",
        "    plt.show()\n",
        "\n",
        "# Visualize a subset of the predicted interaction matrix\n",
        "plot_interaction_prediction_heatmap(user_prediction, 'User-Item Predicted Interaction Matrix (User-Based)')"
      ]
    },
    {
      "cell_type": "markdown",
      "metadata": {},
      "source": [
        "Task 5: Evaluating our recommender"
      ]
    },
    {
      "cell_type": "code",
      "execution_count": 150,
      "metadata": {},
      "outputs": [],
      "source": [
        "#TODO: Implement the precision_recall_at_k function\n",
        "\n",
        "def precision_recall_at_k(prediction, ground_truth, k=10):\n",
        "    \"\"\"\n",
        "    Calculates Precision@K and Recall@K for top-K recommendations.\n",
        "    Parameters:\n",
        "        prediction (numpy array): The predicted interaction matrix with scores.\n",
        "        ground_truth (numpy array): The ground truth interaction matrix (binary).\n",
        "        k (int): Number of top recommendations to consider.\n",
        "    Returns:\n",
        "        precision_at_k (float): The average precision@K over all users.\n",
        "        recall_at_k (float): The average recall@K over all users.\n",
        "    \"\"\"\n",
        "    num_users = prediction.shape[0]\n",
        "    precision_at_k, recall_at_k = 0, 0\n",
        "\n",
        "    for user in range(num_users):\n",
        "        # TODO: Get the indices of the top-K items for the user based on predicted scores\n",
        "        top_k_items = np.argsort(prediction[user, :])[-k:]\n",
        "        \n",
        "        # TODO: Calculate the number of relevant items in the top-K items for the user\n",
        "        relevant_items_in_top_k = np.isin(top_k_items, np.where(ground_truth[user, :] == 1)[0]).sum()\n",
        "        \n",
        "        # TODO: Calculate the total number of relevant items for the user\n",
        "        total_relevant_items = ground_truth[user, :].sum()\n",
        "        \n",
        "        # Precision@K and Recall@K for this user\n",
        "        precision_at_k += relevant_items_in_top_k / k\n",
        "        recall_at_k += relevant_items_in_top_k / total_relevant_items if total_relevant_items > 0 else 0\n",
        "\n",
        "    # Average Precision@K and Recall@K over all users\n",
        "    precision_at_k /= num_users\n",
        "    recall_at_k /= num_users\n",
        "    \n",
        "    return precision_at_k, recall_at_k"
      ]
    },
    {
      "cell_type": "code",
      "execution_count": 151,
      "metadata": {},
      "outputs": [
        {
          "name": "stdout",
          "output_type": "stream",
          "text": [
            "User-based CF Precision@K: 0.05591987751977813\n",
            "User-based CF Recall@K: 0.2867094186891897\n",
            "Item-based CF Precision@K: 0.05506506761929339\n",
            "Item-based CF Recall@K: 0.261140155818284\n"
          ]
        }
      ],
      "source": [
        "# Run this line after implementing the function\n",
        "precision_user_k, recall_user_k = precision_recall_at_k(user_prediction, test_data_matrix, k=10)\n",
        "precision_item_k, recall_item_k = precision_recall_at_k(item_prediction, test_data_matrix, k=10)\n",
        "\n",
        "print('User-based CF Precision@K:', precision_user_k)\n",
        "print('User-based CF Recall@K:', recall_user_k)\n",
        "print('Item-based CF Precision@K:', precision_item_k)\n",
        "print('Item-based CF Recall@K:', recall_item_k)"
      ]
    },
    {
      "cell_type": "markdown",
      "metadata": {},
      "source": [
        "Task 6: Show the recommendations for a specific user"
      ]
    },
    {
      "cell_type": "code",
      "execution_count": 152,
      "metadata": {},
      "outputs": [
        {
          "name": "stdout",
          "output_type": "stream",
          "text": [
            "Selected User ID: 6167\n"
          ]
        },
        {
          "data": {
            "text/plain": [
              "array([  578,  2746, 11459,  2101,  2947,  2105,   577,  3700,   767,\n",
              "         579])"
            ]
          },
          "metadata": {},
          "output_type": "display_data"
        },
        {
          "data": {
            "text/plain": [
              "array([ 2105, 11459,  2947,   575,  2746, 13069,  1326,   578,  9067,\n",
              "        6641])"
            ]
          },
          "metadata": {},
          "output_type": "display_data"
        }
      ],
      "source": [
        "import random\n",
        "import numpy as np\n",
        "\n",
        "# Pick a user at random\n",
        "user_id = random.choice(range(user_prediction.shape[0]))\n",
        "print(\"Selected User ID:\", user_id)\n",
        "\n",
        "# Get top-10 recommendations for the user from User-to-User CF\n",
        "user_top_10 = np.argsort(user_prediction[user_id, :])[-10:][::-1]\n",
        "\n",
        "# Get top-10 recommendations for the user from Item-to-Item CF\n",
        "item_top_10 = np.argsort(item_prediction[user_id, :])[-10:][::-1]\n",
        "\n",
        "# Display top-10 recommended movie IDs for both models\n",
        "display(user_top_10)\n",
        "display(item_top_10)"
      ]
    },
    {
      "cell_type": "code",
      "execution_count": 156,
      "metadata": {},
      "outputs": [
        {
          "data": {
            "text/html": [
              "<div>\n",
              "<style scoped>\n",
              "    .dataframe tbody tr th:only-of-type {\n",
              "        vertical-align: middle;\n",
              "    }\n",
              "\n",
              "    .dataframe tbody tr th {\n",
              "        vertical-align: top;\n",
              "    }\n",
              "\n",
              "    .dataframe thead th {\n",
              "        text-align: right;\n",
              "    }\n",
              "</style>\n",
              "<table border=\"1\" class=\"dataframe\">\n",
              "  <thead>\n",
              "    <tr style=\"text-align: right;\">\n",
              "      <th></th>\n",
              "      <th>book_id</th>\n",
              "      <th>Title</th>\n",
              "    </tr>\n",
              "  </thead>\n",
              "  <tbody>\n",
              "    <tr>\n",
              "      <th>0</th>\n",
              "      <td>578</td>\n",
              "      <td>Réinventer l'amour : comment le patriarcat sab...</td>\n",
              "    </tr>\n",
              "    <tr>\n",
              "      <th>1</th>\n",
              "      <td>2746</td>\n",
              "      <td>Auto-efficacité : comment le sentiment d'effi...</td>\n",
              "    </tr>\n",
              "    <tr>\n",
              "      <th>2</th>\n",
              "      <td>11459</td>\n",
              "      <td>Nous les menteurs /</td>\n",
              "    </tr>\n",
              "    <tr>\n",
              "      <th>3</th>\n",
              "      <td>2101</td>\n",
              "      <td>So shall you reap /</td>\n",
              "    </tr>\n",
              "    <tr>\n",
              "      <th>4</th>\n",
              "      <td>2947</td>\n",
              "      <td>Recherche et méthodologie en sciences humaines /</td>\n",
              "    </tr>\n",
              "    <tr>\n",
              "      <th>5</th>\n",
              "      <td>2105</td>\n",
              "      <td>Le naufrage de Venise : roman /</td>\n",
              "    </tr>\n",
              "    <tr>\n",
              "      <th>6</th>\n",
              "      <td>577</td>\n",
              "      <td>L'amour /</td>\n",
              "    </tr>\n",
              "    <tr>\n",
              "      <th>7</th>\n",
              "      <td>3700</td>\n",
              "      <td>Mai 67 /</td>\n",
              "    </tr>\n",
              "    <tr>\n",
              "      <th>8</th>\n",
              "      <td>767</td>\n",
              "      <td>Espèces d'espaces /</td>\n",
              "    </tr>\n",
              "    <tr>\n",
              "      <th>9</th>\n",
              "      <td>579</td>\n",
              "      <td>Le bon père /</td>\n",
              "    </tr>\n",
              "  </tbody>\n",
              "</table>\n",
              "</div>"
            ],
            "text/plain": [
              "   book_id                                              Title\n",
              "0      578  Réinventer l'amour : comment le patriarcat sab...\n",
              "1     2746  Auto-efficacité : comment le sentiment d'effi...\n",
              "2    11459                                Nous les menteurs /\n",
              "3     2101                                So shall you reap /\n",
              "4     2947   Recherche et méthodologie en sciences humaines /\n",
              "5     2105                    Le naufrage de Venise : roman /\n",
              "6      577                                          L'amour /\n",
              "7     3700                                           Mai 67 /\n",
              "8      767                                Espèces d'espaces /\n",
              "9      579                                     Le bon père /"
            ]
          },
          "metadata": {},
          "output_type": "display_data"
        },
        {
          "data": {
            "text/html": [
              "<div>\n",
              "<style scoped>\n",
              "    .dataframe tbody tr th:only-of-type {\n",
              "        vertical-align: middle;\n",
              "    }\n",
              "\n",
              "    .dataframe tbody tr th {\n",
              "        vertical-align: top;\n",
              "    }\n",
              "\n",
              "    .dataframe thead th {\n",
              "        text-align: right;\n",
              "    }\n",
              "</style>\n",
              "<table border=\"1\" class=\"dataframe\">\n",
              "  <thead>\n",
              "    <tr style=\"text-align: right;\">\n",
              "      <th></th>\n",
              "      <th>book_id</th>\n",
              "      <th>Title</th>\n",
              "    </tr>\n",
              "  </thead>\n",
              "  <tbody>\n",
              "    <tr>\n",
              "      <th>0</th>\n",
              "      <td>2105</td>\n",
              "      <td>Le naufrage de Venise : roman /</td>\n",
              "    </tr>\n",
              "    <tr>\n",
              "      <th>1</th>\n",
              "      <td>11459</td>\n",
              "      <td>Nous les menteurs /</td>\n",
              "    </tr>\n",
              "    <tr>\n",
              "      <th>2</th>\n",
              "      <td>2947</td>\n",
              "      <td>Recherche et méthodologie en sciences humaines /</td>\n",
              "    </tr>\n",
              "    <tr>\n",
              "      <th>3</th>\n",
              "      <td>575</td>\n",
              "      <td>Les formes du visible : une anthropologie de l...</td>\n",
              "    </tr>\n",
              "    <tr>\n",
              "      <th>4</th>\n",
              "      <td>2746</td>\n",
              "      <td>Auto-efficacité : comment le sentiment d'effi...</td>\n",
              "    </tr>\n",
              "    <tr>\n",
              "      <th>5</th>\n",
              "      <td>13069</td>\n",
              "      <td>Manger au Moyen Âge : pratiques et discours al...</td>\n",
              "    </tr>\n",
              "    <tr>\n",
              "      <th>6</th>\n",
              "      <td>1326</td>\n",
              "      <td>Soins infirmiers en gériatrie : vieillissement...</td>\n",
              "    </tr>\n",
              "    <tr>\n",
              "      <th>7</th>\n",
              "      <td>578</td>\n",
              "      <td>Réinventer l'amour : comment le patriarcat sab...</td>\n",
              "    </tr>\n",
              "    <tr>\n",
              "      <th>8</th>\n",
              "      <td>9067</td>\n",
              "      <td>Les aiguilles d'or : roman /</td>\n",
              "    </tr>\n",
              "    <tr>\n",
              "      <th>9</th>\n",
              "      <td>6641</td>\n",
              "      <td>L'oiseau qui buvait du lait : roman /</td>\n",
              "    </tr>\n",
              "  </tbody>\n",
              "</table>\n",
              "</div>"
            ],
            "text/plain": [
              "   book_id                                              Title\n",
              "0     2105                    Le naufrage de Venise : roman /\n",
              "1    11459                                Nous les menteurs /\n",
              "2     2947   Recherche et méthodologie en sciences humaines /\n",
              "3      575  Les formes du visible : une anthropologie de l...\n",
              "4     2746  Auto-efficacité : comment le sentiment d'effi...\n",
              "5    13069  Manger au Moyen Âge : pratiques et discours al...\n",
              "6     1326  Soins infirmiers en gériatrie : vieillissement...\n",
              "7      578  Réinventer l'amour : comment le patriarcat sab...\n",
              "8     9067                       Les aiguilles d'or : roman /\n",
              "9     6641              L'oiseau qui buvait du lait : roman /"
            ]
          },
          "metadata": {},
          "output_type": "display_data"
        }
      ],
      "source": [
        "# Convert user_top_10 and item_top_10 arrays into DataFrames\n",
        "user_top_10_df = pd.DataFrame({'book_id': user_top_10})\n",
        "item_top_10_df = pd.DataFrame({'book_id': item_top_10})\n",
        "\n",
        "# Merge with movies_df to add the title column\n",
        "user_recommendations_df = user_top_10_df.merge(books[['book_id', 'Title']], left_on='book_id', right_on='book_id')\n",
        "item_recommendations_df = item_top_10_df.merge(books[['book_id', 'Title']], left_on='book_id', right_on='book_id')\n",
        "\n",
        "# Select only the columns we want to display\n",
        "user_recommendations_df = user_recommendations_df[['book_id', 'Title']]\n",
        "item_recommendations_df = item_recommendations_df[['book_id', 'Title']]\n",
        "\n",
        "# Display the results\n",
        "display(user_recommendations_df)\n",
        "display(item_recommendations_df)"
      ]
    },
    {
      "cell_type": "code",
      "execution_count": 157,
      "metadata": {},
      "outputs": [
        {
          "data": {
            "text/html": [
              "<div>\n",
              "<style scoped>\n",
              "    .dataframe tbody tr th:only-of-type {\n",
              "        vertical-align: middle;\n",
              "    }\n",
              "\n",
              "    .dataframe tbody tr th {\n",
              "        vertical-align: top;\n",
              "    }\n",
              "\n",
              "    .dataframe thead th {\n",
              "        text-align: right;\n",
              "    }\n",
              "</style>\n",
              "<table border=\"1\" class=\"dataframe\">\n",
              "  <thead>\n",
              "    <tr style=\"text-align: right;\">\n",
              "      <th></th>\n",
              "      <th>user_id</th>\n",
              "      <th>recommended_items</th>\n",
              "      <th>Title</th>\n",
              "    </tr>\n",
              "  </thead>\n",
              "  <tbody>\n",
              "    <tr>\n",
              "      <th>0</th>\n",
              "      <td>0</td>\n",
              "      <td>44</td>\n",
              "      <td>Tokyo tarareba girls /</td>\n",
              "    </tr>\n",
              "    <tr>\n",
              "      <th>1</th>\n",
              "      <td>0</td>\n",
              "      <td>56</td>\n",
              "      <td>Soixante printemps en hiver /</td>\n",
              "    </tr>\n",
              "    <tr>\n",
              "      <th>2</th>\n",
              "      <td>0</td>\n",
              "      <td>51</td>\n",
              "      <td>Le bébé des Buttes-Chaumont /</td>\n",
              "    </tr>\n",
              "    <tr>\n",
              "      <th>3</th>\n",
              "      <td>0</td>\n",
              "      <td>47</td>\n",
              "      <td>La Fille à la moto /</td>\n",
              "    </tr>\n",
              "    <tr>\n",
              "      <th>4</th>\n",
              "      <td>0</td>\n",
              "      <td>54</td>\n",
              "      <td>Pil /</td>\n",
              "    </tr>\n",
              "  </tbody>\n",
              "</table>\n",
              "</div>"
            ],
            "text/plain": [
              "   user_id recommended_items                          Title\n",
              "0        0                44         Tokyo tarareba girls /\n",
              "1        0                56  Soixante printemps en hiver /\n",
              "2        0                51  Le bébé des Buttes-Chaumont /\n",
              "3        0                47           La Fille à la moto /\n",
              "4        0                54                          Pil /"
            ]
          },
          "metadata": {},
          "output_type": "display_data"
        },
        {
          "data": {
            "text/html": [
              "<div>\n",
              "<style scoped>\n",
              "    .dataframe tbody tr th:only-of-type {\n",
              "        vertical-align: middle;\n",
              "    }\n",
              "\n",
              "    .dataframe tbody tr th {\n",
              "        vertical-align: top;\n",
              "    }\n",
              "\n",
              "    .dataframe thead th {\n",
              "        text-align: right;\n",
              "    }\n",
              "</style>\n",
              "<table border=\"1\" class=\"dataframe\">\n",
              "  <thead>\n",
              "    <tr style=\"text-align: right;\">\n",
              "      <th></th>\n",
              "      <th>user_id</th>\n",
              "      <th>recommended_items</th>\n",
              "      <th>Title</th>\n",
              "    </tr>\n",
              "  </thead>\n",
              "  <tbody>\n",
              "    <tr>\n",
              "      <th>0</th>\n",
              "      <td>0</td>\n",
              "      <td>78</td>\n",
              "      <td>Fullmetal alchemist /</td>\n",
              "    </tr>\n",
              "    <tr>\n",
              "      <th>1</th>\n",
              "      <td>0</td>\n",
              "      <td>74</td>\n",
              "      <td>Turing à la plage : l'intelligence artificiell...</td>\n",
              "    </tr>\n",
              "    <tr>\n",
              "      <th>2</th>\n",
              "      <td>0</td>\n",
              "      <td>45</td>\n",
              "      <td>Yotsuba &amp; ! /</td>\n",
              "    </tr>\n",
              "    <tr>\n",
              "      <th>3</th>\n",
              "      <td>0</td>\n",
              "      <td>77</td>\n",
              "      <td>Ici /</td>\n",
              "    </tr>\n",
              "    <tr>\n",
              "      <th>4</th>\n",
              "      <td>0</td>\n",
              "      <td>70</td>\n",
              "      <td>Fudafudak : l'endroit qui scintille /</td>\n",
              "    </tr>\n",
              "  </tbody>\n",
              "</table>\n",
              "</div>"
            ],
            "text/plain": [
              "   user_id recommended_items  \\\n",
              "0        0                78   \n",
              "1        0                74   \n",
              "2        0                45   \n",
              "3        0                77   \n",
              "4        0                70   \n",
              "\n",
              "                                               Title  \n",
              "0                              Fullmetal alchemist /  \n",
              "1  Turing à la plage : l'intelligence artificiell...  \n",
              "2                                      Yotsuba & ! /  \n",
              "3                                              Ici /  \n",
              "4              Fudafudak : l'endroit qui scintille /  "
            ]
          },
          "metadata": {},
          "output_type": "display_data"
        }
      ],
      "source": [
        "# Generating a csv file with the top 10 recommendations for each user_id\n",
        "def generate_recommendations(prediction_matrix, books_df, n=10):\n",
        "    \"\"\"\n",
        "    Generates top-N recommendations for each user based on the prediction matrix.\n",
        "    Parameters:\n",
        "        prediction_matrix (numpy array): The predicted interaction matrix.\n",
        "        books_df (DataFrame): DataFrame containing book information.\n",
        "        n (int): Number of top recommendations to generate for each user.\n",
        "    Returns:\n",
        "        DataFrame: A DataFrame containing user_id and their top-N recommended book_ids.\n",
        "    \"\"\"\n",
        "    recommendations = []\n",
        "    \n",
        "    for user_id in range(prediction_matrix.shape[0]):\n",
        "        # Get the indices of the top-N items for the user based on predicted scores\n",
        "        top_n_items = np.argsort(prediction_matrix[user_id, :])[-n:][::-1]\n",
        "        \n",
        "        # Append the user_id and recommended item_ids to the list\n",
        "        recommendations.append((user_id, list(top_n_items)))\n",
        "    \n",
        "    # Convert to DataFrame\n",
        "    recommendations_df = pd.DataFrame(recommendations, columns=['user_id', 'recommended_items'])\n",
        "    \n",
        "    # Explode the list of recommended items into separate rows\n",
        "    recommendations_df = recommendations_df.explode('recommended_items')\n",
        "    \n",
        "    # Merge with books_df to get book titles\n",
        "    recommendations_df = recommendations_df.merge(books_df[['book_id', 'Title']], left_on='recommended_items', right_on='book_id', how='left')\n",
        "    \n",
        "    return recommendations_df[['user_id', 'recommended_items', 'Title']]\n",
        "# Generate recommendations for the user-based model\n",
        "user_recommendations_df = generate_recommendations(user_prediction, books, n=10)\n",
        "# Generate recommendations for the item-based model\n",
        "item_recommendations_df = generate_recommendations(item_prediction, books, n=10)\n",
        "# Save to CSV files\n",
        "user_recommendations_df.to_csv('user_based_recommendations.csv', index=False)\n",
        "item_recommendations_df.to_csv('item_based_recommendations.csv', index=False)\n",
        "# Display the first few rows of the user-based recommendations\n",
        "display(user_recommendations_df.head())\n",
        "# Display the first few rows of the item-based recommendations\n",
        "display(item_recommendations_df.head())"
      ]
    },
    {
      "cell_type": "code",
      "execution_count": 160,
      "metadata": {},
      "outputs": [
        {
          "data": {
            "text/plain": [
              "array([[   44,    56,    51, ...,    73,    43,    65],\n",
              "       [  147,    38,   136, ...,   154,   131,   137],\n",
              "       [  200,   196,   189, ...,   194,   197,   193],\n",
              "       ...,\n",
              "       [   86,  2189,  3375, ...,  7135,  1160,  4899],\n",
              "       [15108,  5030,  5042, ...,  5037,  5036,  5035],\n",
              "       [15108,  5030,  5042, ...,  5037,  5036,  5035]])"
            ]
          },
          "metadata": {},
          "output_type": "display_data"
        },
        {
          "data": {
            "text/plain": [
              "array([[   78,    74,    45, ...,    71,    42,    55],\n",
              "       [  132,   155,   148, ...,   153,   149,   145],\n",
              "       [  190,   202,   200, ...,   192,   194,   195],\n",
              "       ...,\n",
              "       [10540,  2189,    86, ..., 13409,  9494,  6302],\n",
              "       [15108,  5030,  5042, ...,  5037,  5036,  5035],\n",
              "       [15108,  5030,  5042, ...,  5037,  5036,  5035]])"
            ]
          },
          "metadata": {},
          "output_type": "display_data"
        }
      ],
      "source": [
        "# Get top-10 recommendations for all the users from User-to-User CF\n",
        "# Get top-10 recommendations for all the users from Item-to-Item CF\n",
        "user_top_10 = np.argsort(user_prediction, axis=1)[:, -10:][:, ::-1]  # Get top-10 recommendations for the user from User-to-User CF for all users\n",
        "item_top_10 = np.argsort(item_prediction, axis=1)[:, -10:][:, ::-1]  # Get top-10 recommendations for the user from Item-to-Item CF for all users\n",
        "# Convert user_top_10 and item_top_10 arrays into DataFrames\n",
        "user_top_10_df = pd.DataFrame(user_top_10, columns=[f'Top_{i+1}' for i in range(10)])\n",
        "item_top_10_df = pd.DataFrame(item_top_10, columns=[f'Top_{i+1}' for i in range(10)])\n",
        "\n",
        "# Display top-10 recommended movie IDs for both models\n",
        "display(user_top_10)\n",
        "display(item_top_10)"
      ]
    },
    {
      "cell_type": "code",
      "execution_count": 208,
      "metadata": {},
      "outputs": [
        {
          "name": "stdout",
          "output_type": "stream",
          "text": [
            "      Top_1  Top_2  Top_3  Top_4  Top_5  Top_6  Top_7  Top_8  Top_9  Top_10\n",
            "0        44     56     51     47     54     80     62     73     43      65\n",
            "1       147     38    136    153    126    140    141    154    131     137\n",
            "2       200    196    189    201    191    199    195    194    197     193\n",
            "3       214    215    210    219    213    216    218    217    212     211\n",
            "4       229    228    227  10865   6068  13948   5155   3423   4946    1114\n",
            "...     ...    ...    ...    ...    ...    ...    ...    ...    ...     ...\n",
            "7833   3053   4818  11124   1365     51     43   3017   8997   2123    8365\n",
            "7834  14548   3469   8997    609  14553  14555  10912   7113   1395   14558\n",
            "7835     86   2189   3375   9667   6971  10540   3897   7135   1160    4899\n",
            "7836  15108   5030   5042   5041   5040   5039   5038   5037   5036    5035\n",
            "7837  15108   5030   5042   5041   5040   5039   5038   5037   5036    5035\n",
            "\n",
            "[7838 rows x 10 columns]\n",
            "      Top_1  Top_2  Top_3  Top_4  Top_5  Top_6  Top_7  Top_8  Top_9  Top_10\n",
            "0        78     74     45     77     70     50     48     71     42      55\n",
            "1       132    155    148    130    143    138    114    153    149     145\n",
            "2       190    202    200    201    193    198    189    192    194     195\n",
            "3       210    219    216    211    217    215  11648    213    212    9607\n",
            "4       227    229   6504    228  10865   1629   7720   9187  12979    3857\n",
            "...     ...    ...    ...    ...    ...    ...    ...    ...    ...     ...\n",
            "7833  13014   6221   6315   9955   4818   3053  14873   5515   3741   11124\n",
            "7834  14548  14555  14558  14616  11818   3469  14849  10912  10899    9585\n",
            "7835  10540   2189     86   1160   9186   3375   3606  13409   9494    6302\n",
            "7836  15108   5030   5042   5041   5040   5039   5038   5037   5036    5035\n",
            "7837  15108   5030   5042   5041   5040   5039   5038   5037   5036    5035\n",
            "\n",
            "[7838 rows x 10 columns]\n"
          ]
        }
      ],
      "source": [
        "# For all the users, get the top-10 recommendations from User-to-User CF\n",
        "# For all the users, get the top-10 recommendations from Item-to-Item CF\n",
        "user_top_10 = np.argsort(user_prediction, axis=1)[:, -10:][:, ::-1]  # Get top-10 recommendations for the user from User-to-User CF for all users\n",
        "item_top_10 = np.argsort(item_prediction, axis=1)[:, -10:][:, ::-1]  # Get top-10 recommendations for the user from Item-to-Item CF for all users\n",
        "# Convert user_top_10 and item_top_10 arrays into DataFrames\n",
        "user_top_10_df = pd.DataFrame(user_top_10, columns=[f'Top_{i+1}' for i in range(10)])\n",
        "item_top_10_df = pd.DataFrame(item_top_10, columns=[f'Top_{i+1}' for i in range(10)])\n",
        "print(user_top_10_df)\n",
        "print(item_top_10_df)\n"
      ]
    },
    {
      "cell_type": "code",
      "execution_count": 209,
      "metadata": {},
      "outputs": [
        {
          "data": {
            "text/html": [
              "<div>\n",
              "<style scoped>\n",
              "    .dataframe tbody tr th:only-of-type {\n",
              "        vertical-align: middle;\n",
              "    }\n",
              "\n",
              "    .dataframe tbody tr th {\n",
              "        vertical-align: top;\n",
              "    }\n",
              "\n",
              "    .dataframe thead th {\n",
              "        text-align: right;\n",
              "    }\n",
              "</style>\n",
              "<table border=\"1\" class=\"dataframe\">\n",
              "  <thead>\n",
              "    <tr style=\"text-align: right;\">\n",
              "      <th></th>\n",
              "      <th>Top_Recommendations</th>\n",
              "    </tr>\n",
              "  </thead>\n",
              "  <tbody>\n",
              "    <tr>\n",
              "      <th>0</th>\n",
              "      <td>44 56 51 47 54 80 62 73 43 65</td>\n",
              "    </tr>\n",
              "    <tr>\n",
              "      <th>1</th>\n",
              "      <td>147 38 136 153 126 140 141 154 131 137</td>\n",
              "    </tr>\n",
              "    <tr>\n",
              "      <th>2</th>\n",
              "      <td>200 196 189 201 191 199 195 194 197 193</td>\n",
              "    </tr>\n",
              "    <tr>\n",
              "      <th>3</th>\n",
              "      <td>214 215 210 219 213 216 218 217 212 211</td>\n",
              "    </tr>\n",
              "    <tr>\n",
              "      <th>4</th>\n",
              "      <td>229 228 227 10865 6068 13948 5155 3423 4946 1114</td>\n",
              "    </tr>\n",
              "    <tr>\n",
              "      <th>...</th>\n",
              "      <td>...</td>\n",
              "    </tr>\n",
              "    <tr>\n",
              "      <th>7833</th>\n",
              "      <td>3053 4818 11124 1365 51 43 3017 8997 2123 8365</td>\n",
              "    </tr>\n",
              "    <tr>\n",
              "      <th>7834</th>\n",
              "      <td>14548 3469 8997 609 14553 14555 10912 7113 139...</td>\n",
              "    </tr>\n",
              "    <tr>\n",
              "      <th>7835</th>\n",
              "      <td>86 2189 3375 9667 6971 10540 3897 7135 1160 4899</td>\n",
              "    </tr>\n",
              "    <tr>\n",
              "      <th>7836</th>\n",
              "      <td>15108 5030 5042 5041 5040 5039 5038 5037 5036 ...</td>\n",
              "    </tr>\n",
              "    <tr>\n",
              "      <th>7837</th>\n",
              "      <td>15108 5030 5042 5041 5040 5039 5038 5037 5036 ...</td>\n",
              "    </tr>\n",
              "  </tbody>\n",
              "</table>\n",
              "<p>7838 rows × 1 columns</p>\n",
              "</div>"
            ],
            "text/plain": [
              "                                    Top_Recommendations\n",
              "0                         44 56 51 47 54 80 62 73 43 65\n",
              "1                147 38 136 153 126 140 141 154 131 137\n",
              "2               200 196 189 201 191 199 195 194 197 193\n",
              "3               214 215 210 219 213 216 218 217 212 211\n",
              "4      229 228 227 10865 6068 13948 5155 3423 4946 1114\n",
              "...                                                 ...\n",
              "7833     3053 4818 11124 1365 51 43 3017 8997 2123 8365\n",
              "7834  14548 3469 8997 609 14553 14555 10912 7113 139...\n",
              "7835   86 2189 3375 9667 6971 10540 3897 7135 1160 4899\n",
              "7836  15108 5030 5042 5041 5040 5039 5038 5037 5036 ...\n",
              "7837  15108 5030 5042 5041 5040 5039 5038 5037 5036 ...\n",
              "\n",
              "[7838 rows x 1 columns]"
            ]
          },
          "metadata": {},
          "output_type": "display_data"
        },
        {
          "data": {
            "text/html": [
              "<div>\n",
              "<style scoped>\n",
              "    .dataframe tbody tr th:only-of-type {\n",
              "        vertical-align: middle;\n",
              "    }\n",
              "\n",
              "    .dataframe tbody tr th {\n",
              "        vertical-align: top;\n",
              "    }\n",
              "\n",
              "    .dataframe thead th {\n",
              "        text-align: right;\n",
              "    }\n",
              "</style>\n",
              "<table border=\"1\" class=\"dataframe\">\n",
              "  <thead>\n",
              "    <tr style=\"text-align: right;\">\n",
              "      <th></th>\n",
              "      <th>Top_Recommendations</th>\n",
              "    </tr>\n",
              "  </thead>\n",
              "  <tbody>\n",
              "    <tr>\n",
              "      <th>0</th>\n",
              "      <td>78 74 45 77 70 50 48 71 42 55</td>\n",
              "    </tr>\n",
              "    <tr>\n",
              "      <th>1</th>\n",
              "      <td>132 155 148 130 143 138 114 153 149 145</td>\n",
              "    </tr>\n",
              "    <tr>\n",
              "      <th>2</th>\n",
              "      <td>190 202 200 201 193 198 189 192 194 195</td>\n",
              "    </tr>\n",
              "    <tr>\n",
              "      <th>3</th>\n",
              "      <td>210 219 216 211 217 215 11648 213 212 9607</td>\n",
              "    </tr>\n",
              "    <tr>\n",
              "      <th>4</th>\n",
              "      <td>227 229 6504 228 10865 1629 7720 9187 12979 3857</td>\n",
              "    </tr>\n",
              "    <tr>\n",
              "      <th>...</th>\n",
              "      <td>...</td>\n",
              "    </tr>\n",
              "    <tr>\n",
              "      <th>7833</th>\n",
              "      <td>13014 6221 6315 9955 4818 3053 14873 5515 3741...</td>\n",
              "    </tr>\n",
              "    <tr>\n",
              "      <th>7834</th>\n",
              "      <td>14548 14555 14558 14616 11818 3469 14849 10912...</td>\n",
              "    </tr>\n",
              "    <tr>\n",
              "      <th>7835</th>\n",
              "      <td>10540 2189 86 1160 9186 3375 3606 13409 9494 6302</td>\n",
              "    </tr>\n",
              "    <tr>\n",
              "      <th>7836</th>\n",
              "      <td>15108 5030 5042 5041 5040 5039 5038 5037 5036 ...</td>\n",
              "    </tr>\n",
              "    <tr>\n",
              "      <th>7837</th>\n",
              "      <td>15108 5030 5042 5041 5040 5039 5038 5037 5036 ...</td>\n",
              "    </tr>\n",
              "  </tbody>\n",
              "</table>\n",
              "<p>7838 rows × 1 columns</p>\n",
              "</div>"
            ],
            "text/plain": [
              "                                    Top_Recommendations\n",
              "0                         78 74 45 77 70 50 48 71 42 55\n",
              "1               132 155 148 130 143 138 114 153 149 145\n",
              "2               190 202 200 201 193 198 189 192 194 195\n",
              "3            210 219 216 211 217 215 11648 213 212 9607\n",
              "4      227 229 6504 228 10865 1629 7720 9187 12979 3857\n",
              "...                                                 ...\n",
              "7833  13014 6221 6315 9955 4818 3053 14873 5515 3741...\n",
              "7834  14548 14555 14558 14616 11818 3469 14849 10912...\n",
              "7835  10540 2189 86 1160 9186 3375 3606 13409 9494 6302\n",
              "7836  15108 5030 5042 5041 5040 5039 5038 5037 5036 ...\n",
              "7837  15108 5030 5042 5041 5040 5039 5038 5037 5036 ...\n",
              "\n",
              "[7838 rows x 1 columns]"
            ]
          },
          "metadata": {},
          "output_type": "display_data"
        }
      ],
      "source": [
        "# For both models, concatenate the top-10 recommendations for each user separating by a space\n",
        "user_top_10_df['Top_Recommendations'] = user_top_10_df.apply(lambda x: ' '.join(map(str, x)), axis=1)\n",
        "item_top_10_df['Top_Recommendations'] = item_top_10_df.apply(lambda x: ' '.join(map(str, x)), axis=1)\n",
        "# Display the top-10 recommendations for both models\n",
        "display(user_top_10_df[['Top_Recommendations']])\n",
        "display(item_top_10_df[['Top_Recommendations']])"
      ]
    },
    {
      "cell_type": "code",
      "execution_count": 210,
      "metadata": {},
      "outputs": [
        {
          "data": {
            "text/html": [
              "<div>\n",
              "<style scoped>\n",
              "    .dataframe tbody tr th:only-of-type {\n",
              "        vertical-align: middle;\n",
              "    }\n",
              "\n",
              "    .dataframe tbody tr th {\n",
              "        vertical-align: top;\n",
              "    }\n",
              "\n",
              "    .dataframe thead th {\n",
              "        text-align: right;\n",
              "    }\n",
              "</style>\n",
              "<table border=\"1\" class=\"dataframe\">\n",
              "  <thead>\n",
              "    <tr style=\"text-align: right;\">\n",
              "      <th></th>\n",
              "      <th>user_id</th>\n",
              "      <th>Top_Recommendations</th>\n",
              "    </tr>\n",
              "  </thead>\n",
              "  <tbody>\n",
              "    <tr>\n",
              "      <th>0</th>\n",
              "      <td>0</td>\n",
              "      <td>44 56 51 47 54 80 62 73 43 65</td>\n",
              "    </tr>\n",
              "    <tr>\n",
              "      <th>1</th>\n",
              "      <td>1</td>\n",
              "      <td>147 38 136 153 126 140 141 154 131 137</td>\n",
              "    </tr>\n",
              "    <tr>\n",
              "      <th>2</th>\n",
              "      <td>2</td>\n",
              "      <td>200 196 189 201 191 199 195 194 197 193</td>\n",
              "    </tr>\n",
              "    <tr>\n",
              "      <th>3</th>\n",
              "      <td>3</td>\n",
              "      <td>214 215 210 219 213 216 218 217 212 211</td>\n",
              "    </tr>\n",
              "    <tr>\n",
              "      <th>4</th>\n",
              "      <td>4</td>\n",
              "      <td>229 228 227 10865 6068 13948 5155 3423 4946 1114</td>\n",
              "    </tr>\n",
              "  </tbody>\n",
              "</table>\n",
              "</div>"
            ],
            "text/plain": [
              "   user_id                               Top_Recommendations\n",
              "0        0                     44 56 51 47 54 80 62 73 43 65\n",
              "1        1            147 38 136 153 126 140 141 154 131 137\n",
              "2        2           200 196 189 201 191 199 195 194 197 193\n",
              "3        3           214 215 210 219 213 216 218 217 212 211\n",
              "4        4  229 228 227 10865 6068 13948 5155 3423 4946 1114"
            ]
          },
          "metadata": {},
          "output_type": "display_data"
        },
        {
          "data": {
            "text/html": [
              "<div>\n",
              "<style scoped>\n",
              "    .dataframe tbody tr th:only-of-type {\n",
              "        vertical-align: middle;\n",
              "    }\n",
              "\n",
              "    .dataframe tbody tr th {\n",
              "        vertical-align: top;\n",
              "    }\n",
              "\n",
              "    .dataframe thead th {\n",
              "        text-align: right;\n",
              "    }\n",
              "</style>\n",
              "<table border=\"1\" class=\"dataframe\">\n",
              "  <thead>\n",
              "    <tr style=\"text-align: right;\">\n",
              "      <th></th>\n",
              "      <th>user_id</th>\n",
              "      <th>Top_Recommendations</th>\n",
              "    </tr>\n",
              "  </thead>\n",
              "  <tbody>\n",
              "    <tr>\n",
              "      <th>0</th>\n",
              "      <td>0</td>\n",
              "      <td>78 74 45 77 70 50 48 71 42 55</td>\n",
              "    </tr>\n",
              "    <tr>\n",
              "      <th>1</th>\n",
              "      <td>1</td>\n",
              "      <td>132 155 148 130 143 138 114 153 149 145</td>\n",
              "    </tr>\n",
              "    <tr>\n",
              "      <th>2</th>\n",
              "      <td>2</td>\n",
              "      <td>190 202 200 201 193 198 189 192 194 195</td>\n",
              "    </tr>\n",
              "    <tr>\n",
              "      <th>3</th>\n",
              "      <td>3</td>\n",
              "      <td>210 219 216 211 217 215 11648 213 212 9607</td>\n",
              "    </tr>\n",
              "    <tr>\n",
              "      <th>4</th>\n",
              "      <td>4</td>\n",
              "      <td>227 229 6504 228 10865 1629 7720 9187 12979 3857</td>\n",
              "    </tr>\n",
              "  </tbody>\n",
              "</table>\n",
              "</div>"
            ],
            "text/plain": [
              "   user_id                               Top_Recommendations\n",
              "0        0                     78 74 45 77 70 50 48 71 42 55\n",
              "1        1           132 155 148 130 143 138 114 153 149 145\n",
              "2        2           190 202 200 201 193 198 189 192 194 195\n",
              "3        3        210 219 216 211 217 215 11648 213 212 9607\n",
              "4        4  227 229 6504 228 10865 1629 7720 9187 12979 3857"
            ]
          },
          "metadata": {},
          "output_type": "display_data"
        }
      ],
      "source": [
        "# Create a new dataframe that contains the user_id and the top-10 recommendations\n",
        "user_recommendations_df = pd.DataFrame({'user_id': range(user_top_10.shape[0]), 'Top_Recommendations': user_top_10_df['Top_Recommendations']})\n",
        "item_recommendations_df = pd.DataFrame({'user_id': range(item_top_10.shape[0]), 'Top_Recommendations': item_top_10_df['Top_Recommendations']})\n",
        "# Display the first few rows of the user-based recommendations\n",
        "display(user_recommendations_df.head())\n",
        "# Display the first few rows of the item-based recommendations\n",
        "display(item_recommendations_df.head())\n",
        "# Save the recommendations to CSV files\n",
        "user_recommendations_df.to_csv('user_based_recommendations.csv', index=False)\n",
        "item_recommendations_df.to_csv('item_based_recommendations.csv', index=False)"
      ]
    }
  ],
  "metadata": {
    "colab": {
      "provenance": []
    },
    "kernelspec": {
      "display_name": "base",
      "language": "python",
      "name": "python3"
    },
    "language_info": {
      "codemirror_mode": {
        "name": "ipython",
        "version": 3
      },
      "file_extension": ".py",
      "mimetype": "text/x-python",
      "name": "python",
      "nbconvert_exporter": "python",
      "pygments_lexer": "ipython3",
      "version": "3.12.7"
    }
  },
  "nbformat": 4,
  "nbformat_minor": 0
}
